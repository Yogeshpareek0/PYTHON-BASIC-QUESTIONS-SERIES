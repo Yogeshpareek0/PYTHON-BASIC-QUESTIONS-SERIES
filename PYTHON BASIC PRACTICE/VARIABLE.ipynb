{
 "cells": [
  {
   "cell_type": "markdown",
   "metadata": {},
   "source": [
    "# 1. What is a variable in Python and how is it used to store data?"
   ]
  },
  {
   "cell_type": "markdown",
   "metadata": {},
   "source": [
    "# In Python, a variable is a symbolic name or identifier that represents a value stored in memory.\n",
    "# 1. Declaration: To create a variable, we simply assign a value to a name.\n",
    "# 2.Assignment: You assign a value to a variable using the = operator. The value can be of any data type: integer, float, string, list, dictionary, etc.\n",
    "# 3. Use: Once a variable is assigned a value, you can use it in expressions and operations\n",
    "# 4. Reassignment: Variables can be reassigned to hold a different value.\n",
    "# 5. Dynamic Typing: Python uses dynamic typing, meaning you don't need to specify the type of a variable when you declare it. The type is determined by the value it holds."
   ]
  },
  {
   "cell_type": "code",
   "execution_count": 2,
   "metadata": {},
   "outputs": [],
   "source": [
    "Firstname = 'Yogesh kumar pareek'\n"
   ]
  },
  {
   "cell_type": "markdown",
   "metadata": {},
   "source": [
    "# 2. How do you declare a variable in Python?"
   ]
  },
  {
   "cell_type": "markdown",
   "metadata": {},
   "source": [
    "# 1. variable_name: This is the name you choose for your variable. It should follow the rules and conventions for naming variables in Python. Variable names can consist of letters (both uppercase and lowercase), numbers, and underscores. They must start with a letter or an underscore but cannot start with a number.\n",
    "# 2. =: The equal sign is used to assign a value to the variable.\n",
    "# 3. value: This is the data you want to store in the variable. It can be of any valid data type in Python, such as numbers, strings, lists, dictionaries, etc."
   ]
  },
  {
   "cell_type": "code",
   "execution_count": 4,
   "metadata": {},
   "outputs": [],
   "source": [
    "Firstname = 'Yogesh kumar pareek'\n",
    "# Firstname is a 'variable name'\n",
    "# \"=\" is used for assign value\n",
    "# 'yogesh kumar pareek' is a value that is stored in variable name"
   ]
  },
  {
   "cell_type": "markdown",
   "metadata": {},
   "source": [
    "# 3. What are the naming rules and conventions for variables in Python?\n"
   ]
  },
  {
   "cell_type": "markdown",
   "metadata": {},
   "source": [
    "# Variable names can consist of letters (both uppercase and lowercase), numbers, and underscores. They must start with a letter or an underscore but cannot start with a number."
   ]
  },
  {
   "cell_type": "markdown",
   "metadata": {},
   "source": [
    "# 4. Can a variable name start with a number in Python?\n"
   ]
  },
  {
   "cell_type": "markdown",
   "metadata": {},
   "source": [
    "# we can not start a variable name with number.\n",
    "# Variable names can consist of letters (both uppercase and lowercase), numbers, and underscores. They must start with a letter or an underscore but cannot start with a number."
   ]
  },
  {
   "cell_type": "markdown",
   "metadata": {},
   "source": [
    "# 5. How do you assign a value to a variable in Python?"
   ]
  },
  {
   "cell_type": "code",
   "execution_count": 8,
   "metadata": {},
   "outputs": [],
   "source": [
    "Firstname = 'Yogesh kumar pareek'\n",
    "# Firstname is a 'variable name'\n",
    "# \"=\" is used for assign value\n",
    "# 'yogesh kumar pareek' is a value that is stored in variable name"
   ]
  },
  {
   "cell_type": "markdown",
   "metadata": {},
   "source": [
    "# 6. What are the different data types that variables can hold in Python?"
   ]
  },
  {
   "cell_type": "code",
   "execution_count": 24,
   "metadata": {},
   "outputs": [
    {
     "name": "stdout",
     "output_type": "stream",
     "text": [
      "<class 'int'>\n",
      "<class 'float'>\n",
      "<class 'str'>\n",
      "<class 'bool'>\n",
      "<class 'list'>\n",
      "<class 'tuple'>\n",
      "<class 'dict'>\n",
      "<class 'set'>\n",
      "<class 'NoneType'>\n",
      "<class 'complex'>\n"
     ]
    }
   ],
   "source": [
    "# Integers:-\n",
    "number = 10\n",
    "print (type(number))\n",
    "# Floating-Point Numbers (float):-\n",
    "float_number = 10.5\n",
    "print (type(float_number))\n",
    "# Strings (str):-\n",
    "_string = \"sachin pareek\"\n",
    "print (type(_string))\n",
    "# Booleans (bool):-\n",
    "is_student = True\n",
    "is_number = False\n",
    "print (type(is_student))\n",
    "# Lists (list):-\n",
    "_list = []\n",
    "print (type(_list))\n",
    "# tuples (tuple):-\n",
    "_tuple = ()\n",
    "print (type(_tuple))\n",
    "# Dictionaries ('dict'):-\n",
    "_dict = {'name':\"yogesh\"}\n",
    "print (type(_dict))\n",
    "# Sets (set):-\n",
    "unique_numnber = {1,2,3,4,5,6}\n",
    "print (type(unique_numnber))\n",
    "# None (NoneType): Represents the absence of a value.\n",
    "_none = None\n",
    "print (type(_none))\n",
    "# Complex Numbers (complex): Numbers with a real and imaginary part.\n",
    "complexnumber = 3 +3j\n",
    "print (type(complexnumber))"
   ]
  },
  {
   "cell_type": "markdown",
   "metadata": {},
   "source": [
    "# 7. How do you reassign a value to an existing variable in Python?\n"
   ]
  },
  {
   "cell_type": "code",
   "execution_count": 26,
   "metadata": {},
   "outputs": [
    {
     "name": "stdout",
     "output_type": "stream",
     "text": [
      "yogesh pareek\n",
      "................\n",
      "anil pareek\n"
     ]
    }
   ],
   "source": [
    "firstname = \"yogesh pareek\"\n",
    "print (firstname)\n",
    "print ('................')\n",
    "firstname = \"anil pareek\"\n",
    "print (firstname)"
   ]
  },
  {
   "cell_type": "markdown",
   "metadata": {},
   "source": [
    "# 8. What is variable scope in Python, and how do global and local variables differ?\n"
   ]
  },
  {
   "cell_type": "markdown",
   "metadata": {},
   "source": [
    "# Variable scope in Python refers to the region of your code where a particular variable can be accessed or modified\n",
    "# Global Scope:\n",
    "# A variable defined outside of any function or block has global scope.\n",
    "# It can be accessed from anywhere in the code, both inside functions and outside functions.\n",
    "# To modify a global variable from within a function, you need to explicitly declare it as global within the function.\n",
    "# Global variables can be accessed and modified across different functions or even at the top level of your script."
   ]
  },
  {
   "cell_type": "code",
   "execution_count": 27,
   "metadata": {},
   "outputs": [
    {
     "name": "stdout",
     "output_type": "stream",
     "text": [
      "11\n"
     ]
    }
   ],
   "source": [
    "global_var = 10\n",
    "\n",
    "def modify_global():\n",
    "    global global_var\n",
    "    global_var += 1\n",
    "\n",
    "modify_global()\n",
    "print(global_var)  # Output: 11\n"
   ]
  },
  {
   "cell_type": "markdown",
   "metadata": {},
   "source": [
    "# Local Scope:\n",
    "# A variable defined within a function has local scope.\n",
    "# It can only be accessed within the function where it's defined.\n",
    "# Local variables are not visible outside the function in which they are defined.\n",
    "# Each function creates its own local scope, and variables within one function do not affect variables with the same name in other functions or the global scope."
   ]
  },
  {
   "cell_type": "code",
   "execution_count": 28,
   "metadata": {},
   "outputs": [
    {
     "name": "stdout",
     "output_type": "stream",
     "text": [
      "20\n"
     ]
    }
   ],
   "source": [
    "def local_example():\n",
    "    local_var = 20\n",
    "    print(local_var)\n",
    "\n",
    "local_example()\n",
    "# print(local_var)  # This would result in an error\n"
   ]
  },
  {
   "cell_type": "markdown",
   "metadata": {},
   "source": [
    "# 9. Can you have multiple variables with the same name in different scopes?\n"
   ]
  },
  {
   "cell_type": "markdown",
   "metadata": {},
   "source": [
    "# Yes, we can have multiple variables with the same name in different scopes. This is possible due to the concept of variable scope in Python."
   ]
  },
  {
   "cell_type": "code",
   "execution_count": 33,
   "metadata": {},
   "outputs": [
    {
     "name": "stdout",
     "output_type": "stream",
     "text": [
      "25.5\n",
      "10\n"
     ]
    }
   ],
   "source": [
    "x= 10\n",
    "def number():\n",
    "    x = 25.5\n",
    "    print (x)\n",
    "number()\n",
    "print (x)"
   ]
  },
  {
   "cell_type": "markdown",
   "metadata": {},
   "source": [
    "# 10. How can you swap the values of two variables in Python without using a temporary variable?\n"
   ]
  },
  {
   "cell_type": "code",
   "execution_count": 42,
   "metadata": {},
   "outputs": [
    {
     "name": "stdout",
     "output_type": "stream",
     "text": [
      "20\n",
      "10\n",
      "...................\n",
      "20\n",
      "10\n"
     ]
    }
   ],
   "source": [
    "# 1. \n",
    "x = 10\n",
    "y = 20\n",
    "x , y = y , x\n",
    "print (x)\n",
    "print (y)\n",
    "print ('...................')\n",
    "# 2.\n",
    "x = 10\n",
    "y = 20\n",
    "x = x+y\n",
    "y = x-y\n",
    "x = x-y\n",
    "print (x)\n",
    "print (y)"
   ]
  }
 ],
 "metadata": {
  "kernelspec": {
   "display_name": "Python 3",
   "language": "python",
   "name": "python3"
  },
  "language_info": {
   "codemirror_mode": {
    "name": "ipython",
    "version": 3
   },
   "file_extension": ".py",
   "mimetype": "text/x-python",
   "name": "python",
   "nbconvert_exporter": "python",
   "pygments_lexer": "ipython3",
   "version": "3.10.8"
  },
  "orig_nbformat": 4
 },
 "nbformat": 4,
 "nbformat_minor": 2
}
