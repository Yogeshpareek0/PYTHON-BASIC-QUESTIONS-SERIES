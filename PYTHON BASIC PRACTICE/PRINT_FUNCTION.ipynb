{
 "cells": [
  {
   "cell_type": "markdown",
   "metadata": {},
   "source": [
    "# 1. What is the purpose of the print() function in Python?\n",
    "# ans.- the main purpose of print() function is display the text value,number,variables and other data on the screen during program execution."
   ]
  },
  {
   "cell_type": "markdown",
   "metadata": {},
   "source": [
    "# 2. How do you use the print() function to display text or output in Python?\n"
   ]
  },
  {
   "cell_type": "code",
   "execution_count": 2,
   "metadata": {},
   "outputs": [
    {
     "name": "stdout",
     "output_type": "stream",
     "text": [
      "10\n",
      "20\n"
     ]
    }
   ],
   "source": [
    "a = 10\n",
    "b = 20\n",
    "print (a)\n",
    "print (b)"
   ]
  },
  {
   "cell_type": "markdown",
   "metadata": {},
   "source": [
    "# 3. Can you provide an example of using the print() function to display multiple variables in a single line?\n"
   ]
  },
  {
   "cell_type": "code",
   "execution_count": 12,
   "metadata": {},
   "outputs": [
    {
     "name": "stdout",
     "output_type": "stream",
     "text": [
      "name:- yogesh pareek , dream job -  data scientist\n"
     ]
    }
   ],
   "source": [
    "a = \"yogesh pareek\"\n",
    "c = \"data scientist\"\n",
    "print (\"name:-\",a,\",\",\"dream job - \" ,c)"
   ]
  },
  {
   "cell_type": "markdown",
   "metadata": {},
   "source": [
    "# 4. How can you format the output using the print() function, such as controlling spaces or line breaks?"
   ]
  },
  {
   "cell_type": "code",
   "execution_count": 18,
   "metadata": {},
   "outputs": [
    {
     "name": "stdout",
     "output_type": "stream",
     "text": [
      "Name:yogesh Age:26 City:jaipur\n"
     ]
    }
   ],
   "source": [
    "#Controlling Spaces:\n",
    "name = \"yogesh\"\n",
    "age = 26\n",
    "city = \"jaipur\"\n",
    "\n",
    "print(\"Name:\" + name + \" Age:\" + str(age) + \" City:\" + city)\n"
   ]
  },
  {
   "cell_type": "code",
   "execution_count": 22,
   "metadata": {},
   "outputs": [
    {
     "name": "stdout",
     "output_type": "stream",
     "text": [
      "Name: yogesh \n",
      "Age: 26 \n",
      "City: jaipur\n"
     ]
    }
   ],
   "source": [
    "# addinig line break\n",
    "name = \"yogesh\"\n",
    "age = 26\n",
    "city = \"jaipur\"\n",
    "\n",
    "print(\"Name:\", name, \"\\nAge:\", age, \"\\nCity:\", city,)\n"
   ]
  },
  {
   "cell_type": "code",
   "execution_count": 23,
   "metadata": {},
   "outputs": [
    {
     "name": "stdout",
     "output_type": "stream",
     "text": [
      "Name:|yogesh|Age:|26|City:|jaipur\n"
     ]
    }
   ],
   "source": [
    "# Controlling Separator:\n",
    "name = \"yogesh\"\n",
    "age = 26\n",
    "city = \"jaipur\"\n",
    "\n",
    "print(\"Name:\", name, \"Age:\", age, \"City:\", city, sep=\"|\")\n"
   ]
  },
  {
   "cell_type": "code",
   "execution_count": 27,
   "metadata": {},
   "outputs": [
    {
     "name": "stdout",
     "output_type": "stream",
     "text": [
      "Hello, world!, i am yogesh pareek\n"
     ]
    }
   ],
   "source": [
    "# End Parameter\n",
    "print(\"Hello\", end=\", \")\n",
    "print(\"world!\",end=\", \")\n",
    "print (\"i am yogesh pareek\")\n"
   ]
  },
  {
   "cell_type": "markdown",
   "metadata": {},
   "source": [
    "# 5. What is the significance of the end parameter in the print() function? How can you use it?\n"
   ]
  },
  {
   "cell_type": "markdown",
   "metadata": {},
   "source": [
    "# The end parameter in the print() function in Python allows you to specify what character(s) should be printed at the end of the printed content. By default, the end parameter is set to \"\\n\" (a newline character), which means that a new line is added after the printed content. However, you can change this behavior by providing a different value to the end parameter."
   ]
  },
  {
   "cell_type": "code",
   "execution_count": 29,
   "metadata": {},
   "outputs": [
    {
     "name": "stdout",
     "output_type": "stream",
     "text": [
      "Hello\n",
      "world!, i am yogesh pareek\n"
     ]
    }
   ],
   "source": [
    "print(\"Hello\", end=\"\\n\")\n",
    "print(\"world!\",end=\", \")\n",
    "print (\"i am yogesh pareek\")"
   ]
  },
  {
   "cell_type": "markdown",
   "metadata": {},
   "source": [
    "# 6. How do you redirect the output of the print() function to a file instead of the console?\n"
   ]
  },
  {
   "cell_type": "code",
   "execution_count": 50,
   "metadata": {},
   "outputs": [],
   "source": [
    "import sys\n",
    "\n",
    "# Open a file for writing\n",
    "with open('output.txt', 'w') as f:\n",
    "    # Save the current standard output\n",
    "    original_stdout = sys.stdout\n",
    "    # Redirect the standard output to the file\n",
    "    sys.stdout = f\n",
    "    \n",
    "    # Now, print statements will be written to the file\n",
    "    print(\"This will be written to the file.\")\n",
    "\n",
    "    # Restore the original standard output\n",
    "    sys.stdout = original_stdout\n",
    "\n",
    "# The file will be automatically closed when the 'with' block exits\n"
   ]
  },
  {
   "cell_type": "markdown",
   "metadata": {},
   "source": [
    "# 7. How can you include special characters like newlines or tabs in the text output using the print() function?\n"
   ]
  },
  {
   "cell_type": "code",
   "execution_count": 56,
   "metadata": {},
   "outputs": [
    {
     "name": "stdout",
     "output_type": "stream",
     "text": [
      "First Name: yogesh \n",
      "Last Name: \t pareek \n",
      "Adress: jaipur (rajasthan)\n"
     ]
    }
   ],
   "source": [
    "firstname = 'yogesh'\n",
    "lastname = 'pareek'\n",
    "address = \"jaipur (rajasthan)\"\n",
    "print ('First Name:', firstname , '\\nLast Name:',\"\\t\",lastname , '\\nAdress:' ,address )"
   ]
  },
  {
   "cell_type": "markdown",
   "metadata": {},
   "source": [
    "# 8. Is it possible to customize the separator between multiple arguments in the print() function? How?\n"
   ]
  },
  {
   "cell_type": "code",
   "execution_count": 60,
   "metadata": {},
   "outputs": [
    {
     "name": "stdout",
     "output_type": "stream",
     "text": [
      "Name:yogesh | Age:26 | City:jaipur\n"
     ]
    }
   ],
   "source": [
    "name = \"yogesh\"\n",
    "age = 26\n",
    "city = \"jaipur\"\n",
    "\n",
    "print(\"Name:\"+name, \"Age:\"+ str(age), \"City:\"+ city, sep=\" | \")\n"
   ]
  },
  {
   "cell_type": "markdown",
   "metadata": {},
   "source": [
    "# 9. Are there any alternative functions or libraries that offer more advanced printing capabilities compared to the built-in print() function?\n"
   ]
  },
  {
   "cell_type": "markdown",
   "metadata": {},
   "source": [
    "# 1. pprint (Pretty Print): The pprint module provides a way to pretty-print data structures with more human-readable formatting. It's particularly useful when working with nested structures like dictionaries and lists.\n",
    "\n",
    "# 2. logging: The logging module offers more robust logging and output control compared to print(). It allows you to define different log levels, control the formatting of log messages, and direct output to various destinations like files, the console, or network streams."
   ]
  },
  {
   "cell_type": "markdown",
   "metadata": {},
   "source": [
    "# 10. print your name with help of variable name.\n"
   ]
  },
  {
   "cell_type": "code",
   "execution_count": 63,
   "metadata": {},
   "outputs": [
    {
     "name": "stdout",
     "output_type": "stream",
     "text": [
      "yogesh kumar pareek\n"
     ]
    }
   ],
   "source": [
    "name = 'yogesh kumar pareek'\n",
    "print (name)"
   ]
  }
 ],
 "metadata": {
  "kernelspec": {
   "display_name": "Python 3",
   "language": "python",
   "name": "python3"
  },
  "language_info": {
   "codemirror_mode": {
    "name": "ipython",
    "version": 3
   },
   "file_extension": ".py",
   "mimetype": "text/x-python",
   "name": "python",
   "nbconvert_exporter": "python",
   "pygments_lexer": "ipython3",
   "version": "3.10.8"
  },
  "orig_nbformat": 4
 },
 "nbformat": 4,
 "nbformat_minor": 2
}
