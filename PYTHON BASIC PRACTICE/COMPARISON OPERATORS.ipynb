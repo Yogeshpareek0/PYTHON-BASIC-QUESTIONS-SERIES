{
 "cells": [
  {
   "cell_type": "markdown",
   "metadata": {},
   "source": [
    "# 1. What are comparison operators in Python?"
   ]
  },
  {
   "cell_type": "markdown",
   "metadata": {},
   "source": [
    "# Comparison operators in Python are used to compare two values or variables and determine their relationship in terms of ordering or equality. These operators return a boolean value (True or False) based on the comparison result.\n",
    "# Equal (==):-he equality operator checks if two values are equal.\n",
    "# Not Equal (!=):-The not equal operator checks if two values are not equal.\n",
    "# Greater Than (>):-The greater than operator checks if the left value is greater than the right value.\n",
    "# Less Than (<):- The less than operator checks if the left value is less than the right value.\n",
    "# Greater Than or Equal To (>=):- The greater than or equal to operator checks if the left value is greater than or equal to the right value.\n",
    "# Less Than or Equal To (<=):- The less than or equal to operator checks if the left value is less than or equal to the right value.\n"
   ]
  },
  {
   "cell_type": "code",
   "execution_count": 12,
   "metadata": {},
   "outputs": [
    {
     "name": "stdout",
     "output_type": "stream",
     "text": [
      "True\n",
      ".....................\n",
      "True\n",
      ".....................\n",
      "True\n",
      ".....................\n",
      "True\n",
      ".....................\n",
      "True\n",
      ".....................\n",
      "True\n",
      ".....................\n"
     ]
    }
   ],
   "source": [
    "# Equal (==):\n",
    "x = 10\n",
    "y = 10\n",
    "print (x==y)\n",
    "print ('.....................')\n",
    "#Not Equal (!=):\n",
    "x = 10\n",
    "y = 20\n",
    "print (x!=y)\n",
    "print ('.....................')\n",
    "#Greater Than (>):\n",
    "x = 10\n",
    "y = 20\n",
    "print (y>x)\n",
    "print ('.....................')\n",
    "# Less Than (<):\n",
    "x = 10\n",
    "y = 20\n",
    "print (x<y)\n",
    "print ('.....................')\n",
    "#Greater Than or Equal To (>=):\n",
    "x = 20\n",
    "y = 20\n",
    "print (x>=y)\n",
    "print ('.....................')\n",
    "#Less Than or Equal To (<=):\n",
    "x = 19\n",
    "y = 20\n",
    "print (x<=y)\n",
    "print ('.....................')"
   ]
  },
  {
   "cell_type": "markdown",
   "metadata": {},
   "source": [
    "# 2. What is the difference between == and is? "
   ]
  },
  {
   "cell_type": "markdown",
   "metadata": {},
   "source": [
    "# == (Equality Operator):\n",
    "# The == operator is used to compare the values of two objects to check if they are equal. It compares the content or data of the objects, rather than their memory locations. If the values are equivalent, the == operator returns True; otherwise, it returns False.\n",
    "# is (Identity Operator):\n",
    "# The 'is' operator is used to compare the memory addresses of two objects to check if they are the same object in memory. It determines if two variables reference the exact same object. If the objects have the same memory address, the is operator returns True; otherwise, it returns False."
   ]
  },
  {
   "cell_type": "code",
   "execution_count": 29,
   "metadata": {},
   "outputs": [
    {
     "name": "stdout",
     "output_type": "stream",
     "text": [
      "True\n",
      "True\n"
     ]
    }
   ],
   "source": [
    "x = [1,2,3]\n",
    "y = [1,2,3]\n",
    "z = y\n",
    "print (x == y) #True\n",
    "print (x==z) #x=z bcz the values of the both variable are same."
   ]
  },
  {
   "cell_type": "code",
   "execution_count": 30,
   "metadata": {},
   "outputs": [
    {
     "name": "stdout",
     "output_type": "stream",
     "text": [
      "False\n",
      "True\n"
     ]
    }
   ],
   "source": [
    "x = [1,2,3]\n",
    "y = [1,2,3]\n",
    "z = x\n",
    "\n",
    "print(x is y)  # False (different objects in memory)\n",
    "print(x is z)  # True (same object in memory)\n"
   ]
  },
  {
   "cell_type": "markdown",
   "metadata": {},
   "source": [
    "# 3. How do you compare strings in Python?\n",
    "\n"
   ]
  },
  {
   "cell_type": "markdown",
   "metadata": {},
   "source": [
    "# You can compare strings in Python using comparison operators (==, !=, <, >, <=, >=). These operators work similarly for strings as they do for other data types, and they compare strings based on their lexicographical (dictionary) order."
   ]
  },
  {
   "cell_type": "code",
   "execution_count": 40,
   "metadata": {},
   "outputs": [
    {
     "name": "stdout",
     "output_type": "stream",
     "text": [
      "True\n",
      "False\n",
      "True\n",
      "True\n",
      "False\n",
      "True\n"
     ]
    }
   ],
   "source": [
    "x = 'apple'\n",
    "y = 'banana'\n",
    "print (y>x) \n",
    "print (x==y)\n",
    "print (x<y)\n",
    "print (x!=y)\n",
    "print (x>=y)\n",
    "print (x<=y)"
   ]
  },
  {
   "cell_type": "markdown",
   "metadata": {},
   "source": [
    "# 4. Explain the use of != operator with an example.\n",
    "\n"
   ]
  },
  {
   "cell_type": "markdown",
   "metadata": {},
   "source": [
    "# if two variables are contain not equal values then it (!=) return True, otherwise return False."
   ]
  },
  {
   "cell_type": "code",
   "execution_count": 41,
   "metadata": {},
   "outputs": [
    {
     "name": "stdout",
     "output_type": "stream",
     "text": [
      "True\n"
     ]
    }
   ],
   "source": [
    "x = 10\n",
    "y = 20\n",
    "print (x!=y)"
   ]
  },
  {
   "cell_type": "markdown",
   "metadata": {},
   "source": [
    "# 5. What does the expression x < y <= z mean?\n",
    "\n"
   ]
  },
  {
   "cell_type": "code",
   "execution_count": 43,
   "metadata": {},
   "outputs": [
    {
     "name": "stdout",
     "output_type": "stream",
     "text": [
      "True\n"
     ]
    }
   ],
   "source": [
    "x = 5\n",
    "y = 10\n",
    "z = 15\n",
    "\n",
    "result = x < y <= z\n",
    "print(result)  # True, because x < y (5 < 10) and y <= z (10 <= 15)\n"
   ]
  },
  {
   "cell_type": "markdown",
   "metadata": {},
   "source": [
    "# 6. How can you compare complex numbers in Python?\n",
    "\n"
   ]
  },
  {
   "cell_type": "code",
   "execution_count": 71,
   "metadata": {},
   "outputs": [
    {
     "name": "stdout",
     "output_type": "stream",
     "text": [
      "False\n",
      "False\n",
      "False\n",
      "True\n"
     ]
    }
   ],
   "source": [
    "a = 3 + 4j\n",
    "b = 5 + 2j\n",
    "\n",
    "print(a == b)  # False, real parts are not equal\n",
    "absolute_value_a = abs(a)\n",
    "absolute_value_b = abs(b)\n",
    "print (absolute_value_a==absolute_value_b)\n",
    "print (absolute_value_a>absolute_value_b)\n",
    "print (absolute_value_a<absolute_value_b)\n",
    "\n"
   ]
  },
  {
   "cell_type": "markdown",
   "metadata": {},
   "source": [
    "# 7. Discuss short-circuiting with logical operators in Python.\n",
    "\n"
   ]
  },
  {
   "cell_type": "markdown",
   "metadata": {},
   "source": [
    "# Short-circuiting in Python refers to the behavior of logical operators (and and or) where the evaluation of the second operand is skipped if the result can be determined based on the value of the first operand. This behavior can lead to more efficient code execution and can be particularly useful when dealing with conditions that depend on certain values or expressions.\n",
    "# Logical AND (and):\n",
    "# Short-circuiting with and means that if the first operand is False, the entire expression will be False, regardless of the value of the second operand. In this case, the second operand is not evaluated, as it wouldn't change the result.\n",
    "# Logical OR (or):\n",
    "# Short-circuiting with or means that if the first operand is True, the entire expression will be True, regardless of the value of the second operand. In this case, the second operand is not evaluated, as it wouldn't change the result."
   ]
  },
  {
   "cell_type": "markdown",
   "metadata": {},
   "source": [
    "# 8. What is the output of True == 1 and False == 0?\n",
    "\n"
   ]
  },
  {
   "cell_type": "code",
   "execution_count": 79,
   "metadata": {},
   "outputs": [
    {
     "name": "stdout",
     "output_type": "stream",
     "text": [
      "........True........\n",
      "True\n",
      "False\n",
      "........False........\n",
      "False\n",
      "True\n"
     ]
    }
   ],
   "source": [
    "print (\"........True........\")\n",
    "if True == 1:\n",
    "    print (\"True\")\n",
    "else:\n",
    "    print (\"False\")\n",
    "if True == 0:\n",
    "    print (\"True\")\n",
    "else:\n",
    "    print (\"False\")\n",
    "print (\"........False........\")\n",
    "if False == 1:\n",
    "    print (\"True\")\n",
    "else:\n",
    "    print (\"False\")\n",
    "if False == 0:\n",
    "    print (\"True\")\n",
    "else:\n",
    "    print (\"False\")"
   ]
  },
  {
   "cell_type": "markdown",
   "metadata": {},
   "source": [
    "# 9. Compare None with other data types using comparison operators.\n",
    "\n"
   ]
  },
  {
   "cell_type": "markdown",
   "metadata": {},
   "source": [
    "# Equality (==) and Inequality (!=):\n",
    "# None is equal to None, and any comparison of None with itself using == will result in True.\n",
    "# Comparing None with other data types using == will always result in False, even if the other type represents an \"empty\" value.\n",
    "# Ordering (<, >, <=, >=):\n",
    "# Comparisons involving None and other data types using ordering operators are not supported and will raise a TypeError."
   ]
  },
  {
   "cell_type": "code",
   "execution_count": 84,
   "metadata": {},
   "outputs": [
    {
     "name": "stdout",
     "output_type": "stream",
     "text": [
      "False\n",
      "True\n"
     ]
    }
   ],
   "source": [
    "x = None\n",
    "y = 10\n",
    "print (x==y)\n",
    "print (x==None)"
   ]
  },
  {
   "cell_type": "markdown",
   "metadata": {},
   "source": [
    "# Can you compare different types of objects in Python?\n",
    "\n"
   ]
  }
 ],
 "metadata": {
  "kernelspec": {
   "display_name": "Python 3",
   "language": "python",
   "name": "python3"
  },
  "language_info": {
   "codemirror_mode": {
    "name": "ipython",
    "version": 3
   },
   "file_extension": ".py",
   "mimetype": "text/x-python",
   "name": "python",
   "nbconvert_exporter": "python",
   "pygments_lexer": "ipython3",
   "version": "3.10.8"
  },
  "orig_nbformat": 4
 },
 "nbformat": 4,
 "nbformat_minor": 2
}
