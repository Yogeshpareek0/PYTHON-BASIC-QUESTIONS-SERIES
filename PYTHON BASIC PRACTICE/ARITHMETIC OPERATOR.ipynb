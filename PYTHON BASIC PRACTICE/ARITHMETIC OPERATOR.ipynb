{
 "cells": [
  {
   "cell_type": "markdown",
   "metadata": {},
   "source": [
    "# 1. What are arithmetic operators in Python, and how do they work?"
   ]
  },
  {
   "cell_type": "code",
   "execution_count": 19,
   "metadata": {},
   "outputs": [
    {
     "name": "stdout",
     "output_type": "stream",
     "text": [
      "x + y =60\n",
      "x - y =20\n",
      "x * y =800\n",
      "x / y =1.5\n",
      "x // y =1\n",
      "x % y =10\n",
      "x ** y =900\n"
     ]
    }
   ],
   "source": [
    "# 1. Addition (\"+\"):\n",
    "x = 40\n",
    "y = 20\n",
    "addition = x + y\n",
    "print (f\"x + y ={addition}\")\n",
    "# 2. Subtraction (\"-\"):\n",
    "x = 40\n",
    "y = 20\n",
    "Subtraction = x - y\n",
    "print (f\"x - y ={Subtraction}\")\n",
    "# 3. Multiplication (\"*\"):\n",
    "x = 40\n",
    "y = 20\n",
    "Multiplication = x * y\n",
    "print (f\"x * y ={Multiplication}\")\n",
    "# 4. Division (\"/\"):\n",
    "x = 30\n",
    "y = 20\n",
    "Division = x / y\n",
    "print (f\"x / y ={Division}\")\n",
    "# 5. Floor Division  (\"//\"):\n",
    "x = 30\n",
    "y = 20\n",
    "Floor_Division  = x // y\n",
    "print (f\"x // y ={Floor_Division }\")\n",
    "# 6. Modulus (\"%\"):\n",
    "x = 30\n",
    "y = 20\n",
    "Modulus = x % y\n",
    "print (f\"x % y ={Modulus}\")\n",
    "# 7. Exponentiation (\"**\"):\n",
    "x = 30\n",
    "y = 2\n",
    "Exponentiation = x ** y\n",
    "print (f\"x ** y ={Exponentiation}\")\n",
    "\n"
   ]
  },
  {
   "cell_type": "markdown",
   "metadata": {},
   "source": [
    "# 2. How do you perform addition, subtraction, multiplication, division, and exponentiation using arithmetic operators?\n"
   ]
  },
  {
   "cell_type": "code",
   "execution_count": 21,
   "metadata": {},
   "outputs": [
    {
     "name": "stdout",
     "output_type": "stream",
     "text": [
      "x + y =60\n",
      "x - y =20\n",
      "x * y =800\n",
      "x / y =1.5\n",
      "x ** y =900\n"
     ]
    }
   ],
   "source": [
    "# 1. Addition (\"+\"):\n",
    "x = 40\n",
    "y = 20\n",
    "addition = x + y\n",
    "print (f\"x + y ={addition}\")\n",
    "# 2. Subtraction (\"-\"):\n",
    "x = 40\n",
    "y = 20\n",
    "Subtraction = x - y\n",
    "print (f\"x - y ={Subtraction}\")\n",
    "# 3. Multiplication (\"*\"):\n",
    "x = 40\n",
    "y = 20\n",
    "Multiplication = x * y\n",
    "print (f\"x * y ={Multiplication}\")\n",
    "# 4. Division (\"/\"):\n",
    "x = 30\n",
    "y = 20\n",
    "Division = x / y\n",
    "print (f\"x / y ={Division}\")\n",
    "# 5. Exponentiation (\"**\"):\n",
    "x = 30\n",
    "y = 2\n",
    "Exponentiation = x ** y\n",
    "print (f\"x ** y ={Exponentiation}\")"
   ]
  },
  {
   "cell_type": "markdown",
   "metadata": {},
   "source": [
    "# 3. What's the difference between / and // operators in Python for division?\n"
   ]
  },
  {
   "cell_type": "markdown",
   "metadata": {},
   "source": [
    "# 1. ('/') division :- Divides the first number by the second number. The result is always a floating-point value.\n",
    "# 2. ('//') floor division :- floor division divides the first number by the second number. The result is always a floor value."
   ]
  },
  {
   "cell_type": "code",
   "execution_count": 22,
   "metadata": {},
   "outputs": [
    {
     "name": "stdout",
     "output_type": "stream",
     "text": [
      "x / y =1.5\n",
      "x // y =1\n"
     ]
    }
   ],
   "source": [
    "# 1. Division (\"/\"):\n",
    "x = 30\n",
    "y = 20\n",
    "Division = x / y\n",
    "print (f\"x / y ={Division}\")\n",
    "# 2. Floor Division  (\"//\"):\n",
    "x = 30\n",
    "y = 20\n",
    "Floor_Division  = x // y\n",
    "print (f\"x // y ={Floor_Division }\")"
   ]
  },
  {
   "cell_type": "markdown",
   "metadata": {},
   "source": [
    "# 4. How can you calculate the remainder using the % operator?\n"
   ]
  },
  {
   "cell_type": "code",
   "execution_count": 26,
   "metadata": {},
   "outputs": [
    {
     "name": "stdout",
     "output_type": "stream",
     "text": [
      "2\n"
     ]
    }
   ],
   "source": [
    "# Modulus (\"%\"):\n",
    "x = 42\n",
    "y = 20\n",
    "Modulus = x % y\n",
    "print (Modulus)"
   ]
  },
  {
   "cell_type": "markdown",
   "metadata": {},
   "source": [
    "# 5. Is it possible to combine multiple arithmetic operators in a single expression? If so, how?\n"
   ]
  },
  {
   "cell_type": "code",
   "execution_count": 27,
   "metadata": {},
   "outputs": [
    {
     "name": "stdout",
     "output_type": "stream",
     "text": [
      "60.0\n"
     ]
    }
   ],
   "source": [
    "result = 10 + 20 * 5 / 2\n",
    "print (result)"
   ]
  },
  {
   "cell_type": "markdown",
   "metadata": {},
   "source": [
    "# 6. What's the order of operations (precedence) for arithmetic operators in Python?\n"
   ]
  },
  {
   "cell_type": "markdown",
   "metadata": {},
   "source": [
    "# (Parentheses , Exponentiation , (Multiplication, Division, Floor Division, Modulus(These operators are evaluated from left to right)(Addition, Subtraction(These operators are evaluated from left to right))))\n"
   ]
  },
  {
   "cell_type": "markdown",
   "metadata": {},
   "source": [
    "# 7. How can you convert a result of division into an integer using arithmetic operators?\n"
   ]
  },
  {
   "cell_type": "code",
   "execution_count": 29,
   "metadata": {},
   "outputs": [
    {
     "name": "stdout",
     "output_type": "stream",
     "text": [
      "3\n"
     ]
    }
   ],
   "source": [
    "x = 10\n",
    "y = 3\n",
    "int_result = x//y\n",
    "print (int_result)"
   ]
  },
  {
   "cell_type": "markdown",
   "metadata": {},
   "source": [
    "# 8. What happens when you perform arithmetic operations between different data types, like integers and floating-point numbers?\n"
   ]
  },
  {
   "cell_type": "code",
   "execution_count": 33,
   "metadata": {},
   "outputs": [
    {
     "name": "stdout",
     "output_type": "stream",
     "text": [
      "12.5\n",
      "...............\n",
      "my age is :26\n"
     ]
    }
   ],
   "source": [
    "x = 10\n",
    "y = 2.5\n",
    "print (x+y)\n",
    "print ('...............')\n",
    "x = 'my age is :'\n",
    "y = 26\n",
    "print (x + str(y))\n"
   ]
  },
  {
   "cell_type": "markdown",
   "metadata": {},
   "source": [
    "# 9. Can you use arithmetic operators with strings in Python? If yes, what's the behavior?\n"
   ]
  },
  {
   "cell_type": "markdown",
   "metadata": {},
   "source": [
    "# String Concatenation ('+'):-The + operator is used for string concatenation.\n",
    "# String Repetition ('*'):- The * operator is used for string repetition.\n",
    "\n"
   ]
  },
  {
   "cell_type": "code",
   "execution_count": 45,
   "metadata": {},
   "outputs": [
    {
     "name": "stdout",
     "output_type": "stream",
     "text": [
      "yogeshpareek\n",
      "...............\n",
      "yogesh pareek, yogesh pareek, yogesh pareek, \n"
     ]
    }
   ],
   "source": [
    "Firstname = \"yogesh\"\n",
    "Lastname = \"pareek\"\n",
    "Fullname = Firstname + Lastname\n",
    "print (Fullname)\n",
    "print ('...............')\n",
    "Firstname = \"yogesh pareek, \" \n",
    "print (Firstname*3 )"
   ]
  },
  {
   "cell_type": "markdown",
   "metadata": {},
   "source": [
    "# 10. How do you use parentheses to control the order of operations when using arithmetic operators?\n"
   ]
  },
  {
   "cell_type": "code",
   "execution_count": 50,
   "metadata": {},
   "outputs": [
    {
     "name": "stdout",
     "output_type": "stream",
     "text": [
      "6.666666666666667\n"
     ]
    }
   ],
   "source": [
    "result = (10 + (5 * 2)) / 3  # Parentheses within parentheses are evaluated first\n",
    "print(result) \n"
   ]
  },
  {
   "cell_type": "markdown",
   "metadata": {},
   "source": [
    "# 10. "
   ]
  }
 ],
 "metadata": {
  "kernelspec": {
   "display_name": "Python 3",
   "language": "python",
   "name": "python3"
  },
  "language_info": {
   "codemirror_mode": {
    "name": "ipython",
    "version": 3
   },
   "file_extension": ".py",
   "mimetype": "text/x-python",
   "name": "python",
   "nbconvert_exporter": "python",
   "pygments_lexer": "ipython3",
   "version": "3.10.8"
  },
  "orig_nbformat": 4
 },
 "nbformat": 4,
 "nbformat_minor": 2
}
