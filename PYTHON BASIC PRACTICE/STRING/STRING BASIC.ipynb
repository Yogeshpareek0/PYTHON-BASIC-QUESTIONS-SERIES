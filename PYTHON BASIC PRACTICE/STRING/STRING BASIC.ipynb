{
 "cells": [
  {
   "cell_type": "markdown",
   "metadata": {},
   "source": [
    "# 1. Write a Python program to reverse a given string."
   ]
  },
  {
   "cell_type": "code",
   "execution_count": 43,
   "metadata": {},
   "outputs": [
    {
     "data": {
      "text/plain": [
       "'hsegoy'"
      ]
     },
     "execution_count": 43,
     "metadata": {},
     "output_type": "execute_result"
    }
   ],
   "source": [
    "string = \"yogesh\"\n",
    "string[-1:-7:-1]"
   ]
  },
  {
   "cell_type": "markdown",
   "metadata": {},
   "source": [
    "# 2. Write a function that takes a string as input and returns the number of vowels in it."
   ]
  },
  {
   "cell_type": "code",
   "execution_count": 10,
   "metadata": {},
   "outputs": [
    {
     "name": "stdout",
     "output_type": "stream",
     "text": [
      "5\n"
     ]
    }
   ],
   "source": [
    "str_input = input(\"Enter a string\") \n",
    "str_input = str_input.upper()\n",
    "vowels = [\"A\",\"E\",\"I\",\"O\",\"U\"]\n",
    "num_of_vowels = []\n",
    "\n",
    "for i in str_input:\n",
    "    for v in vowels:\n",
    "        if v == i:\n",
    "            num_of_vowels.append(v)\n",
    "\n",
    "print (len(num_of_vowels))\n",
    "        \n",
    "\n",
    "  "
   ]
  },
  {
   "cell_type": "markdown",
   "metadata": {},
   "source": [
    "# 3. Given a string, write a program to check if it is a palindrome (reads the same forwards and backwards).\n",
    "\n"
   ]
  },
  {
   "cell_type": "code",
   "execution_count": 17,
   "metadata": {},
   "outputs": [
    {
     "name": "stdout",
     "output_type": "stream",
     "text": [
      "Given input is not a palindrome string\n"
     ]
    }
   ],
   "source": [
    "name = input(\"Enter a name\")\n",
    "reverse_name = name[::-1]\n",
    "if name==reverse_name:\n",
    "    print (\"Given input is a palindrome string\")\n",
    "else:\n",
    "    print (\"Given input is not a palindrome string\")"
   ]
  },
  {
   "cell_type": "markdown",
   "metadata": {},
   "source": [
    "# 4. Write a function that takes a list of strings as input and returns the longest string from the list.\n",
    "\n"
   ]
  },
  {
   "cell_type": "code",
   "execution_count": 74,
   "metadata": {},
   "outputs": [
    {
     "name": "stdout",
     "output_type": "stream",
     "text": [
      "yogeshpareek\n"
     ]
    }
   ],
   "source": [
    "str_list = [\"yogeshpareek\",\"sachin\",\"anil\",\"vikash\",\"prakash\"]\n",
    "longest_str_list = []\n",
    "longest_str = \"\"\n",
    "for i in str_list:\n",
    "    if len(i)>len(longest_str):\n",
    "        longest_str = i\n",
    "\n",
    "print (longest_str)\n",
    "\n",
    "    "
   ]
  },
  {
   "cell_type": "markdown",
   "metadata": {},
   "source": [
    "# 5. Write a program to find and replace all occurrences of a specific word in a given string with another word.\n",
    "\n"
   ]
  },
  {
   "cell_type": "code",
   "execution_count": 100,
   "metadata": {},
   "outputs": [
    {
     "name": "stdout",
     "output_type": "stream",
     "text": [
      "i am harish pareek \n"
     ]
    }
   ],
   "source": [
    "def replace_word (input_string,target_word,replacement_word):\n",
    "    word = input_string.split()\n",
    "    for i in range(0,len(word)):\n",
    "        if word[i]==target_word:\n",
    "            word[i]=replacement_word\n",
    "\n",
    "    new_string = \"\"\n",
    "    for i  in word:\n",
    "        new_string += i + \" \"\n",
    "\n",
    "    print (new_string)\n",
    "\n",
    "input_s = \"i am yogesh pareek\"\n",
    "target_w = \"yogesh\"\n",
    "replace_w = \"harish\"\n",
    "replace_word(input_s,target_w,replace_w)\n",
    "\n",
    "\n"
   ]
  },
  {
   "cell_type": "markdown",
   "metadata": {},
   "source": [
    "# 6. Write a function that takes a string as input and returns a new string with all the consonants capitalized.\n",
    "\n"
   ]
  },
  {
   "cell_type": "code",
   "execution_count": 117,
   "metadata": {},
   "outputs": [
    {
     "data": {
      "text/plain": [
       "'YOGESH KUMAR PAREEK'"
      ]
     },
     "execution_count": 117,
     "metadata": {},
     "output_type": "execute_result"
    }
   ],
   "source": [
    "def upper_string(input_string):\n",
    "    upper_string = input_string.upper()\n",
    "    return upper_string\n",
    "my_string = \"yogesh kumar pareek\"\n",
    "upper_string(my_string)"
   ]
  },
  {
   "cell_type": "markdown",
   "metadata": {},
   "source": [
    "# 7. Write a program that takes a sentence as input and prints the words in reverse order.\n",
    "\n"
   ]
  },
  {
   "cell_type": "code",
   "execution_count": 118,
   "metadata": {},
   "outputs": [
    {
     "data": {
      "text/plain": [
       "'keerap ramuk hsegoy ma i'"
      ]
     },
     "execution_count": 118,
     "metadata": {},
     "output_type": "execute_result"
    }
   ],
   "source": [
    "#reverse string as a string\n",
    "def reverse_string(sentence):\n",
    "    reverse_sentence = sentence[::-1]\n",
    "    return reverse_sentence\n",
    "my_name = \"i am yogesh kumar pareek\"\n",
    "reverse_string(my_name)"
   ]
  },
  {
   "cell_type": "code",
   "execution_count": 128,
   "metadata": {},
   "outputs": [
    {
     "data": {
      "text/plain": [
       "'pareek kumar yogesh am i '"
      ]
     },
     "execution_count": 128,
     "metadata": {},
     "output_type": "execute_result"
    }
   ],
   "source": [
    "#reverse list as a string\n",
    "def reverse_string(sentence):\n",
    "    word = sentence.split()\n",
    "    name_list = []\n",
    "    for i in range((len(word)-1),-1,-1):\n",
    "        name_list.append(word[i])\n",
    "    rev_string = \"\"\n",
    "    for i in name_list:\n",
    "        rev_string += i + \" \"\n",
    "    return rev_string\n",
    "my_name = \"i am yogesh kumar pareek\"\n",
    "reverse_string(my_name)"
   ]
  },
  {
   "cell_type": "markdown",
   "metadata": {},
   "source": [
    "# 8. Write a function that takes two strings as input and determines if they are anagrams of each other.\n"
   ]
  },
  {
   "cell_type": "markdown",
   "metadata": {},
   "source": [
    "# 9. Write a program that takes a string as input and prints the frequency of each character present in the string.\n"
   ]
  },
  {
   "cell_type": "markdown",
   "metadata": {},
   "source": [
    "# 10. Write a function that takes a sentence as input and returns the words in the sentence sorted alphabetically."
   ]
  }
 ],
 "metadata": {
  "kernelspec": {
   "display_name": "Python 3",
   "language": "python",
   "name": "python3"
  },
  "language_info": {
   "codemirror_mode": {
    "name": "ipython",
    "version": 3
   },
   "file_extension": ".py",
   "mimetype": "text/x-python",
   "name": "python",
   "nbconvert_exporter": "python",
   "pygments_lexer": "ipython3",
   "version": "3.10.8"
  },
  "orig_nbformat": 4
 },
 "nbformat": 4,
 "nbformat_minor": 2
}
