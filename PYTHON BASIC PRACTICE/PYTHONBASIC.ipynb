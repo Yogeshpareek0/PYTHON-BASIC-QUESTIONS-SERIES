{
 "cells": [
  {
   "cell_type": "code",
   "execution_count": 2,
   "metadata": {},
   "outputs": [],
   "source": [
    "#1. Write a Python program to print the following string in a specific format (see the output).\n",
    "#Sample String : \"Twinkle, twinkle, little star, How I wonder what you are! Up above the world so high, Like a diamond in the sky. Twinkle, twinkle, little star, How I wonder what you are\"\n",
    "#Output :\n",
    "\n",
    "#Twinkle, twinkle, little star,\n",
    "#\tHow I wonder what you are! \n",
    "#\t\tUp above the world so high,   \t\t\n",
    "#\t\tLike a diamond in the sky. \n",
    "#Twinkle, twinkle, little star, \n",
    "#\tHow I wonder what you are"
   ]
  },
  {
   "cell_type": "code",
   "execution_count": 24,
   "metadata": {},
   "outputs": [
    {
     "name": "stdout",
     "output_type": "stream",
     "text": [
      "Twinkle, twinkle, little star, \n",
      "   How I wonder what you are! \n",
      "\tUp above the world so high, \n",
      "\tLike a diamond in the sky. \n",
      "Twinkle, twinkle, little star, \n",
      "How I wonder what you are\n"
     ]
    }
   ],
   "source": [
    "print ('Twinkle, twinkle, little star, \\n   How I wonder what you are! \\n\\tUp above the world so high, \\n\\tLike a diamond in the sky. \\nTwinkle, twinkle, little star, \\nHow I wonder what you are')"
   ]
  },
  {
   "cell_type": "markdown",
   "metadata": {},
   "source": [
    "# Write a Python program to find out what version of Python you are using."
   ]
  },
  {
   "cell_type": "code",
   "execution_count": 30,
   "metadata": {},
   "outputs": [
    {
     "name": "stdout",
     "output_type": "stream",
     "text": [
      "3.10.8 (tags/v3.10.8:aaaf517, Oct 11 2022, 16:50:30) [MSC v.1933 64 bit (AMD64)]\n",
      "sys.version_info(major=3, minor=10, micro=8, releaselevel='final', serial=0)\n"
     ]
    }
   ],
   "source": [
    "import sys\n",
    "print(sys.version)\n",
    "print(sys.version_info)"
   ]
  },
  {
   "cell_type": "markdown",
   "metadata": {},
   "source": [
    "# Write a Python program to display the current date and time."
   ]
  },
  {
   "cell_type": "code",
   "execution_count": 4,
   "metadata": {},
   "outputs": [
    {
     "name": "stdout",
     "output_type": "stream",
     "text": [
      "current date and time:\n",
      "27-09-2023 23:50:46\n"
     ]
    }
   ],
   "source": [
    "import datetime\n",
    "now = datetime.datetime.now()\n",
    "print (\"current date and time:\")\n",
    "print (now.strftime(\"%d-%m-%Y %H:%M:%S\"))\n"
   ]
  },
  {
   "cell_type": "markdown",
   "metadata": {},
   "source": [
    "# Write a Python program that calculates the area of a circle based on the radius entered by the user."
   ]
  },
  {
   "cell_type": "code",
   "execution_count": 52,
   "metadata": {},
   "outputs": [
    {
     "name": "stdout",
     "output_type": "stream",
     "text": [
      "3.80\n"
     ]
    }
   ],
   "source": [
    "import math\n",
    "r = 1.1\n",
    "area =  ((math.pi)*r**2)\n",
    "circle_area = \"{:.2f}\".format(area)\n",
    "print (circle_area)"
   ]
  },
  {
   "cell_type": "markdown",
   "metadata": {},
   "source": [
    "# Write a Python program that accepts the user's first and last name and prints them in reverse order with a space between them."
   ]
  },
  {
   "cell_type": "code",
   "execution_count": 54,
   "metadata": {},
   "outputs": [
    {
     "name": "stdout",
     "output_type": "stream",
     "text": [
      "keerap hsegoy\n"
     ]
    }
   ],
   "source": [
    "firstname = \"yogesh\"\n",
    "lastname = \"pareek\"\n",
    "name = firstname +\" \"+ lastname\n",
    "name = name[::-1]\n",
    "print (name)"
   ]
  },
  {
   "cell_type": "markdown",
   "metadata": {},
   "source": [
    "\n",
    "# Write a Python program that accepts a sequence of comma-separated numbers from the user and generates a list and a tuple of those numbers."
   ]
  },
  {
   "cell_type": "code",
   "execution_count": 89,
   "metadata": {},
   "outputs": [
    {
     "name": "stdout",
     "output_type": "stream",
     "text": [
      "['1', '2', '3', '4', '5', '6', '7', '8', '9']\n",
      "('1', '2', '3', '4', '5', '6', '7', '8', '9')\n"
     ]
    }
   ],
   "source": [
    "number = \"1,2,3,4,5,6,7,8,9\"\n",
    "number_list = []\n",
    "for i in range(0,(len(number)),2):\n",
    "    number_list.append(number[i])\n",
    "print (number_list)\n",
    "number_tuple = tuple(number_list)\n",
    "print (number_tuple)"
   ]
  },
  {
   "cell_type": "markdown",
   "metadata": {},
   "source": [
    "# Write a Python program that accepts a filename from the user and prints the extension of the file."
   ]
  },
  {
   "cell_type": "code",
   "execution_count": 8,
   "metadata": {},
   "outputs": [
    {
     "name": "stdout",
     "output_type": "stream",
     "text": [
      "The extension of the file is : 'ipynb'\n"
     ]
    }
   ],
   "source": [
    "filename = \"python.ipynb\"\n",
    "f_extns = filename.split(\".\")\n",
    "print (\"The extension of the file is : \" + repr(f_extns[-1]))"
   ]
  },
  {
   "cell_type": "markdown",
   "metadata": {},
   "source": [
    "# Write a Python program to display the first and last colors from the following list."
   ]
  },
  {
   "cell_type": "code",
   "execution_count": 108,
   "metadata": {},
   "outputs": [
    {
     "name": "stdout",
     "output_type": "stream",
     "text": [
      "first color is 'Red' last color is 'Black'\n"
     ]
    }
   ],
   "source": [
    "color_list = [\"Red\",\"Green\",\"White\" ,\"Black\"]\n",
    "first_index = 0\n",
    "last_index = (len(color_list)-1)\n",
    "print (f\"first color is {repr(color_list[first_index])} last color is {repr(color_list[last_index])}\")"
   ]
  },
  {
   "cell_type": "markdown",
   "metadata": {},
   "source": [
    "# Write a Python program to display the examination schedule. (extract the date from exam_st_date)."
   ]
  },
  {
   "cell_type": "code",
   "execution_count": 152,
   "metadata": {},
   "outputs": [
    {
     "name": "stdout",
     "output_type": "stream",
     "text": [
      "The examination will start from : 11 / 12 / 2017\n"
     ]
    }
   ],
   "source": [
    "exam_st_date = (11,12,2017)\n",
    "print( \"The examination will start from : %i / %i / %i\"%exam_st_date)"
   ]
  },
  {
   "cell_type": "markdown",
   "metadata": {},
   "source": [
    "# Write a Python program that accepts an integer (n) and computes the value of n+nn+nnn.\n",
    "# Sample value of n is 5\n",
    "# Expected Result : 615"
   ]
  },
  {
   "cell_type": "code",
   "execution_count": 160,
   "metadata": {},
   "outputs": [
    {
     "name": "stdout",
     "output_type": "stream",
     "text": [
      "615\n"
     ]
    }
   ],
   "source": [
    "n = 5\n",
    "number1 = n\n",
    "number2 = int(str(n)+str(n))\n",
    "number3 = int(str(n)+str(n)+str(n))\n",
    "print (number1+number2+number3)"
   ]
  },
  {
   "cell_type": "markdown",
   "metadata": {},
   "source": [
    "# Write a Python program that prints the calendar for a given month and year."
   ]
  },
  {
   "cell_type": "code",
   "execution_count": 196,
   "metadata": {},
   "outputs": [
    {
     "name": "stdout",
     "output_type": "stream",
     "text": [
      "    August 1997\n",
      "Mo Tu We Th Fr Sa Su\n",
      "             1  2  3\n",
      " 4  5  6  7  8  9 10\n",
      "11 12 13 14 15 16 17\n",
      "18 19 20 21 22 23 24\n",
      "25 26 27 28 29 30 31\n",
      "\n"
     ]
    }
   ],
   "source": [
    "import calendar\n",
    "Y = int(\"1997\")\n",
    "M = int(\"08\")\n",
    "print (calendar.month(Y , M))"
   ]
  },
  {
   "cell_type": "code",
   "execution_count": 222,
   "metadata": {},
   "outputs": [],
   "source": [
    "# Write a Python program to print the following 'here document'.\n",
    "\n",
    "# Sample string:\n",
    "# a string that you \"don't\" have to escape\n",
    "# This\n",
    "# is a ....... multi-line\n",
    "# heredoc string --------> example"
   ]
  },
  {
   "cell_type": "code",
   "execution_count": 223,
   "metadata": {},
   "outputs": [
    {
     "name": "stdout",
     "output_type": "stream",
     "text": [
      "\n",
      "a string that you \"don't\" have to escape\n",
      "This\n",
      "is a  ....... multi-line\n",
      "heredoc string --------> example\n",
      "\n"
     ]
    }
   ],
   "source": [
    "print(\"\"\"\n",
    "a string that you \"don't\" have to escape\n",
    "This\n",
    "is a  ....... multi-line\n",
    "heredoc string --------> example\n",
    "\"\"\")"
   ]
  },
  {
   "cell_type": "markdown",
   "metadata": {},
   "source": [
    "# Write a Python program to calculate the number of days between two dates.\n",
    "# Sample dates : (2014, 7, 2), (2014, 7, 11)\n",
    "# Expected output : 9 days"
   ]
  },
  {
   "cell_type": "code",
   "execution_count": 236,
   "metadata": {},
   "outputs": [
    {
     "name": "stdout",
     "output_type": "stream",
     "text": [
      "2014-07-02\n",
      "9 days, 0:00:00\n"
     ]
    }
   ],
   "source": [
    "from datetime import date\n",
    "f_date = date(2014, 7, 2)\n",
    "l_date = date(2014, 7, 11)\n",
    "print (f_date)\n",
    "delta = l_date-f_date\n",
    "print (delta)"
   ]
  },
  {
   "cell_type": "markdown",
   "metadata": {},
   "source": [
    "# Write a Python program to get the volume of a sphere with radius six. 4/3 pi*r3\n"
   ]
  },
  {
   "cell_type": "code",
   "execution_count": 250,
   "metadata": {},
   "outputs": [
    {
     "name": "stdout",
     "output_type": "stream",
     "text": [
      "904.7786842338603\n"
     ]
    }
   ],
   "source": [
    "import math\n",
    "r = 6\n",
    "volume = (4/3)*math.pi*(r**3)\n",
    "print (volume)"
   ]
  },
  {
   "cell_type": "markdown",
   "metadata": {},
   "source": [
    "#  Write a Python program to calculate the difference between a given number and 17. If the number is greater than 17, return twice the absolute difference."
   ]
  },
  {
   "cell_type": "code",
   "execution_count": 3,
   "metadata": {},
   "outputs": [
    {
     "name": "stdout",
     "output_type": "stream",
     "text": [
      "10\n",
      "3\n"
     ]
    }
   ],
   "source": [
    "def diff(number):\n",
    "    if number <= 17:\n",
    "        return 17-number\n",
    "    else:\n",
    "        return (number-17)*2\n",
    "    \n",
    "print (diff(22))\n",
    "print (diff(14))"
   ]
  },
  {
   "cell_type": "markdown",
   "metadata": {},
   "source": [
    "# Write a Python program to test whether a number is within 100 of 1000 or 2000."
   ]
  },
  {
   "cell_type": "code",
   "execution_count": 9,
   "metadata": {},
   "outputs": [
    {
     "name": "stdout",
     "output_type": "stream",
     "text": [
      "the 1900 is near by 1000 or 2000\n",
      "the 2200 is not near by 1000 or 2000\n"
     ]
    }
   ],
   "source": [
    "def diff_checker(given_number):\n",
    "    if (abs((given_number-1000)<100)) or (abs((given_number-2000)<100)):\n",
    "        return f\"the {given_number} is near by 1000 or 2000\"\n",
    "    else:\n",
    "        return f\"the {given_number} is not near by 1000 or 2000\"\n",
    "print (diff_checker(1900))\n",
    "print (diff_checker(2200))\n",
    "\n"
   ]
  },
  {
   "cell_type": "markdown",
   "metadata": {},
   "source": [
    "#  Write a Python program to calculate the sum of three given numbers. If the values are equal, return three times their sum."
   ]
  },
  {
   "cell_type": "code",
   "execution_count": 13,
   "metadata": {},
   "outputs": [
    {
     "name": "stdout",
     "output_type": "stream",
     "text": [
      "60\n",
      "90\n",
      "40\n",
      "270\n"
     ]
    }
   ],
   "source": [
    "def sum (n1,n2,n3):\n",
    "    if n1!=n2 or n1!=n3 or n2!=n3:\n",
    "        return n1+n2+n3\n",
    "    else:\n",
    "        return (n1+n2+n3)*3\n",
    "print (sum(10,20,30))\n",
    "print (sum(10,10,10))\n",
    "print (sum(10,10,20))\n",
    "print (sum(30,30,30))\n",
    "\n",
    "    \n"
   ]
  },
  {
   "cell_type": "markdown",
   "metadata": {},
   "source": [
    "# Write a Python program to get a newly-generated string from a given string where \"Is\" has been added to the front. Return the string unchanged if the given string already begins with \"Is\"."
   ]
  },
  {
   "cell_type": "code",
   "execution_count": 29,
   "metadata": {},
   "outputs": [
    {
     "name": "stdout",
     "output_type": "stream",
     "text": [
      "Isanil\n"
     ]
    }
   ],
   "source": [
    "def add_string(my_str):\n",
    "    my_new_str = my_str.upper()\n",
    "    if my_new_str[0:2]==\"IS\":\n",
    "        return (my_new_str.capitalize())\n",
    "    else:\n",
    "        return ((\"IS\" + my_new_str).capitalize())\n",
    "print (add_string(\"isanil\"))\n",
    "    \n"
   ]
  },
  {
   "cell_type": "markdown",
   "metadata": {},
   "source": [
    "# 20. Write a Python program that returns a string that is n (non-negative integer) copies of a given string.\n"
   ]
  },
  {
   "cell_type": "code",
   "execution_count": 35,
   "metadata": {},
   "outputs": [
    {
     "name": "stdout",
     "output_type": "stream",
     "text": [
      "yogesh yogesh \n"
     ]
    }
   ],
   "source": [
    "def copy (my_str,n):\n",
    "    return ((my_str + \" \") * n)\n",
    "print (copy(\"yogesh\",2))"
   ]
  },
  {
   "cell_type": "markdown",
   "metadata": {},
   "source": [
    "# 21. Write a Python program that determines whether a given number (accepted from the user) is even or odd, and prints an appropriate message to the user.\n"
   ]
  },
  {
   "cell_type": "code",
   "execution_count": 36,
   "metadata": {},
   "outputs": [
    {
     "name": "stdout",
     "output_type": "stream",
     "text": [
      "the given number is an even number\n",
      "the given number is an odd number\n"
     ]
    }
   ],
   "source": [
    "def even_or_odd(number):\n",
    "    if number%2==0:\n",
    "        return \"the given number is an even number\"\n",
    "    else:\n",
    "        return \"the given number is an odd number\"\n",
    "print (even_or_odd(582))\n",
    "print (even_or_odd(593))"
   ]
  },
  {
   "cell_type": "markdown",
   "metadata": {},
   "source": [
    "# 22. Write a Python program to count the number 4 in a given list.\n"
   ]
  },
  {
   "cell_type": "code",
   "execution_count": 49,
   "metadata": {},
   "outputs": [
    {
     "name": "stdout",
     "output_type": "stream",
     "text": [
      "3\n"
     ]
    }
   ],
   "source": [
    "def count(my_list):\n",
    "    four_in_list = []\n",
    "    for i in my_list:\n",
    "        if i == 4:\n",
    "            four_in_list.append(i)\n",
    "        else:\n",
    "            pass\n",
    "    count = 0\n",
    "    for c in four_in_list:\n",
    "        count += 1\n",
    "\n",
    "    return count\n",
    "\n",
    "mylist = [4,2,0,7,2,4,9,6,8,4]\n",
    "print (count(mylist))"
   ]
  },
  {
   "cell_type": "markdown",
   "metadata": {},
   "source": [
    "# 23. Write a Python program to get n (non-negative integer) copies of the first 2 characters of a given string. Return n copies of the whole string if the length is less than 2.\n"
   ]
  },
  {
   "cell_type": "code",
   "execution_count": 50,
   "metadata": {},
   "outputs": [
    {
     "name": "stdout",
     "output_type": "stream",
     "text": [
      "yoyoyoyoyo\n",
      "hhhhh\n"
     ]
    }
   ],
   "source": [
    "def copy(mystr,n):\n",
    "    if (len(mystr)<2):\n",
    "        return (mystr*n)\n",
    "    else:\n",
    "        return (mystr[0:2]*n)\n",
    "print (copy(\"yogesh\",5))\n",
    "print (copy(\"h\",5))"
   ]
  },
  {
   "cell_type": "markdown",
   "metadata": {},
   "source": [
    "# 24. Write a Python program to test whether a passed letter is a vowel or not.\n"
   ]
  },
  {
   "cell_type": "code",
   "execution_count": 74,
   "metadata": {},
   "outputs": [
    {
     "name": "stdout",
     "output_type": "stream",
     "text": [
      "the given letter r is not a vowel letter\n",
      "the given letter a is a vowel letter\n",
      "the given letter b is not a vowel letter\n",
      "the given letter c is not a vowel letter\n",
      "the given letter e is a vowel letter\n",
      "the given letter i is a vowel letter\n"
     ]
    }
   ],
   "source": [
    "def is_vowel(letter):\n",
    "    lower_letter = letter.lower()\n",
    "    vowels = [\"a\",\"e\",\"i\",\"o\",\"u\"]\n",
    "    if lower_letter in vowels:\n",
    "        return f\"the given letter {lower_letter} is a vowel letter\"\n",
    "    else:\n",
    "        return f\"the given letter {lower_letter} is not a vowel letter\"\n",
    "\n",
    "print (is_vowel(\"R\"))\n",
    "print (is_vowel(\"A\"))\n",
    "print (is_vowel(\"B\"))\n",
    "print (is_vowel(\"C\"))\n",
    "print (is_vowel(\"E\"))\n",
    "print (is_vowel(\"I\"))"
   ]
  },
  {
   "cell_type": "markdown",
   "metadata": {},
   "source": [
    "# 25. Write a Python program that checks whether a specified value is contained within a group of values."
   ]
  },
  {
   "cell_type": "code",
   "execution_count": 87,
   "metadata": {},
   "outputs": [
    {
     "name": "stdout",
     "output_type": "stream",
     "text": [
      "the number_list is not contained the given number 10\n"
     ]
    }
   ],
   "source": [
    "number = 10\n",
    "number_list = [5,1,2,3,9,8,5,2,1]\n",
    "if number in number_list:\n",
    "    print (f\"the number_list is contained the given number {number}\")\n",
    "else:\n",
    "    print (f\"the number_list is not contained the given number {number}\")\n"
   ]
  },
  {
   "cell_type": "markdown",
   "metadata": {},
   "source": [
    "# 26. Write a Python program to create a histogram from a given list of integers.\n",
    "# 2365\n"
   ]
  },
  {
   "cell_type": "code",
   "execution_count": 1,
   "metadata": {},
   "outputs": [
    {
     "name": "stdout",
     "output_type": "stream",
     "text": [
      "**\n",
      "***\n",
      "******\n",
      "*****\n"
     ]
    }
   ],
   "source": [
    "def histogram(item):\n",
    "    for i in item:\n",
    "        output = ''\n",
    "        times = i\n",
    "        while times>0:\n",
    "            output += \"*\"\n",
    "            times -= 1\n",
    "        print (output)\n",
    "histo = histogram([2,3,6,5])\n",
    "        "
   ]
  },
  {
   "cell_type": "markdown",
   "metadata": {},
   "source": [
    "# 27. Write a Python program that concatenates all elements in a list into a string and returns it.\n"
   ]
  },
  {
   "cell_type": "code",
   "execution_count": 30,
   "metadata": {},
   "outputs": [
    {
     "name": "stdout",
     "output_type": "stream",
     "text": [
      "12356\n",
      ".......................\n",
      "geeks\n",
      ".......................\n"
     ]
    },
    {
     "data": {
      "text/plain": [
       "'12356'"
      ]
     },
     "execution_count": 30,
     "metadata": {},
     "output_type": "execute_result"
    }
   ],
   "source": [
    "def convert_into_str(l1):\n",
    "    my_str = ''\n",
    "    for i in l1:\n",
    "        my_str+= str(i)\n",
    "    return my_str   \n",
    "\n",
    "l1 = [1,2,3,5,6]\n",
    "print (convert_into_str(l1))\n",
    "print ('.......................')\n",
    "list1 = ['g', 'e', 'e', 'k', 's']\n",
    "print(\"\".join(list1))\n",
    "print ('.......................')\n",
    "l1 = [\"1\",\"2\",\"3\",\"5\",\"6\"]\n",
    "my_str = \"\"\n",
    "my_str.join(l1)\n"
   ]
  },
  {
   "cell_type": "markdown",
   "metadata": {},
   "source": [
    "#  Write a Python program to print all even numbers from a given list of numbers in the same order and stop printing any after 237 in the sequence.\n",
    "# Sample numbers list :\n",
    "\n",
    "# numbers = [    \n",
    "# 386, 462, 47, 418, 907, 344, 236, 375, 823, 566, 597, 978, 328, 615, 953, 345, \n",
    "# 399, 162, 758, 219, 918, 237, 412, 566, 826, 248, 866, 950, 626, 949, 687, 217, \n",
    "# 815, 67, 104, 58, 512, 24, 892, 894, 767, 553, 81, 379, 843, 831, 445, 742, 717, \n",
    "# 958,743, 527]\n",
    "    "
   ]
  },
  {
   "cell_type": "code",
   "execution_count": 33,
   "metadata": {},
   "outputs": [
    {
     "name": "stdout",
     "output_type": "stream",
     "text": [
      "[386, 462, 418, 344, 236, 566, 978, 328, 162, 758, 918, 412, 566, 826, 248, 866, 950, 626, 104, 58, 512, 24, 892, 894, 742, 958]\n",
      "[47, 907, 375, 823, 597, 615, 953, 345, 399, 219, 237, 949, 687, 217, 815, 67, 767, 553, 81, 379, 843, 831, 445, 717, 743, 527]\n"
     ]
    }
   ],
   "source": [
    "numbers = [    \n",
    "    386, 462, 47, 418, 907, 344, 236, 375, 823, 566, 597, 978, 328, 615, 953, 345, \n",
    "    399, 162, 758, 219, 918, 237, 412, 566, 826, 248, 866, 950, 626, 949, 687, 217, \n",
    "    815, 67, 104, 58, 512, 24, 892, 894, 767, 553, 81, 379, 843, 831, 445, 742, 717, \n",
    "    958,743, 527\n",
    "    ]\n",
    "even_number = []\n",
    "odd_number = []\n",
    "for i in numbers:\n",
    "    if i%2==0:\n",
    "        even_number.append(i)\n",
    "    else:\n",
    "        odd_number.append(i)\n",
    "print (even_number)\n",
    "print (odd_number)"
   ]
  },
  {
   "cell_type": "markdown",
   "metadata": {},
   "source": [
    "# 29. Write a Python program that prints out all colors from color_list_1 that are not present in color_list_2.\n"
   ]
  },
  {
   "cell_type": "code",
   "execution_count": 55,
   "metadata": {},
   "outputs": [
    {
     "name": "stdout",
     "output_type": "stream",
     "text": [
      "{'Black', 'brown', 'White'}\n",
      "..........................\n",
      "{'Black', 'brown', 'White'}\n",
      "{'pink'}\n"
     ]
    }
   ],
   "source": [
    "color_list_1 = set([\"White\", \"Black\", \"Red\",\"Green\",\"brown\"])\n",
    "color_list_2 = set([\"Red\", \"Green\"])\n",
    "duplicate_color = color_list_1.intersection(color_list_2)\n",
    "for i in duplicate_color:\n",
    "    color_list_1.remove(i)\n",
    "\n",
    "print (color_list_1)\n",
    "print (\"..........................\")\n",
    "color_list_1 = set([\"White\", \"Black\", \"Red\",\"Green\",\"brown\"])\n",
    "color_list_2 = set([\"Red\", \"Green\",\"pink\"])\n",
    "print (color_list_1.difference(color_list_2))\n",
    "print (color_list_2.difference(color_list_1))\n",
    "\n"
   ]
  },
  {
   "cell_type": "markdown",
   "metadata": {},
   "source": [
    "# 30. Write a Python program that will accept the base and height of a triangle and compute its area.\n"
   ]
  },
  {
   "cell_type": "code",
   "execution_count": 61,
   "metadata": {},
   "outputs": [
    {
     "name": "stdout",
     "output_type": "stream",
     "text": [
      "area = 100.0\n"
     ]
    }
   ],
   "source": [
    "def area (b,h):\n",
    "    area = ((1/2)*b*h)\n",
    "    return f\"area = {(area)}\"\n",
    "print (area(10,20))"
   ]
  },
  {
   "cell_type": "markdown",
   "metadata": {},
   "source": [
    "# 31. Write a Python program that computes the greatest common divisor (GCD) of two positive integers."
   ]
  },
  {
   "cell_type": "code",
   "execution_count": 113,
   "metadata": {},
   "outputs": [
    {
     "name": "stdout",
     "output_type": "stream",
     "text": [
      "The GCD for 336 and 360 is 24\n",
      "The GCD for 12 and 17 is 1\n",
      "The GCD for 4 and 6 is 2\n"
     ]
    }
   ],
   "source": [
    "def gcd(number1 , number2):\n",
    "    start_div = int(min(number1,number2)/2)\n",
    "    for i in range(start_div,0,-1):\n",
    "        if (number1 %i==0) and (number2%i==0):\n",
    "            \n",
    "            return (f\"The GCD for {number1} and {number2} is {i}\")\n",
    "print (gcd(336,360))\n",
    "print (gcd(12,17))\n",
    "print (gcd(4,6))"
   ]
  },
  {
   "cell_type": "markdown",
   "metadata": {},
   "source": [
    "# 32. Write a Python program to find the least common multiple (LCM) of two positive integers.\n"
   ]
  },
  {
   "cell_type": "code",
   "execution_count": 112,
   "metadata": {},
   "outputs": [
    {
     "name": "stdout",
     "output_type": "stream",
     "text": [
      "The LCM for 336 and 360 is 5040\n",
      "The LCM for 12 and 17 is 204\n",
      "The LCM for 4 and 6 is 12\n"
     ]
    }
   ],
   "source": [
    "def gcd(number1 , number2):\n",
    "    start_div = int(max(number1,number2))\n",
    "    end_div = int(number1*number2)\n",
    "\n",
    "    for i in range(start_div,end_div+1,1):\n",
    "        if (i % number1==0) and (i % number2 == 0):\n",
    "            \n",
    "            return (f\"The LCM for {number1} and {number2} is {i}\")\n",
    "print (gcd(336,360))\n",
    "print (gcd(12,17))\n",
    "print (gcd(4,6))"
   ]
  },
  {
   "cell_type": "markdown",
   "metadata": {},
   "source": [
    "# 33. Write a Python program to sum three given integers. However, if two values are equal, the sum will be zero.\n"
   ]
  },
  {
   "cell_type": "code",
   "execution_count": 125,
   "metadata": {},
   "outputs": [
    {
     "name": "stdout",
     "output_type": "stream",
     "text": [
      "45\n"
     ]
    }
   ],
   "source": [
    "def condition_sum(x,y,z):\n",
    "    \n",
    "    if x == y or y == z or x == z:\n",
    "        sum = 0\n",
    "    else:\n",
    "        sum = x + y + z\n",
    "\n",
    "    return sum\n",
    "print (condition_sum(10,15,20))\n",
    "    \n",
    "    \n"
   ]
  },
  {
   "cell_type": "markdown",
   "metadata": {},
   "source": [
    "# 34. Write a Python program to sum two given integers. However, if the sum is between 15 and 20 it will return 20.\n"
   ]
  },
  {
   "cell_type": "code",
   "execution_count": 135,
   "metadata": {},
   "outputs": [
    {
     "name": "stdout",
     "output_type": "stream",
     "text": [
      "15\n",
      "20\n",
      "20\n",
      "20\n",
      "20\n",
      "35\n",
      "30\n"
     ]
    }
   ],
   "source": [
    "def condition_sum(x,y):\n",
    "\n",
    "    sum = x + y\n",
    "    if sum < 20 and sum > 15:\n",
    "        sum = 20\n",
    "    else:\n",
    "        sum = x + y\n",
    "\n",
    "    return sum\n",
    "print (condition_sum(10,5))\n",
    "print (condition_sum(10,6))\n",
    "print (condition_sum(11,5))\n",
    "print (condition_sum(11,6))\n",
    "print (condition_sum(10,7))\n",
    "print (condition_sum(10,25))\n",
    "print (condition_sum(10,20))"
   ]
  },
  {
   "cell_type": "markdown",
   "metadata": {},
   "source": [
    "# 35. Write a Python program that returns true if the two given integer values are equal or their sum or difference is 5.\n"
   ]
  },
  {
   "cell_type": "code",
   "execution_count": 144,
   "metadata": {},
   "outputs": [
    {
     "name": "stdout",
     "output_type": "stream",
     "text": [
      "True\n",
      "True\n",
      "True\n",
      "False\n"
     ]
    }
   ],
   "source": [
    "def condition_sum(x,y):\n",
    "    diff = abs(x - y)\n",
    "    sum = x + y\n",
    "    if x == y:\n",
    "        return True\n",
    "    elif sum == 5:\n",
    "        return True\n",
    "    elif diff==5:\n",
    "        return True\n",
    "    else:\n",
    "        return False\n",
    "print (condition_sum(2,3))\n",
    "print (condition_sum(12,7))\n",
    "print (condition_sum(7,7))\n",
    "print (condition_sum(7,8))"
   ]
  },
  {
   "cell_type": "markdown",
   "metadata": {},
   "source": [
    "# Write a Python program to add two objects if both objects are integers."
   ]
  },
  {
   "cell_type": "code",
   "execution_count": 3,
   "metadata": {},
   "outputs": [
    {
     "name": "stdout",
     "output_type": "stream",
     "text": [
      "30\n",
      "Inputs must be integers!\n"
     ]
    }
   ],
   "source": [
    "def add_int(a,b):\n",
    "    if not (isinstance(a,int) and isinstance(b,int)):\n",
    "        return \"Inputs must be integers!\"\n",
    "    return a+b\n",
    "\n",
    "print (add_int(10,20))\n",
    "print (add_int(\"10\",30))\n"
   ]
  },
  {
   "cell_type": "markdown",
   "metadata": {},
   "source": [
    "# 37 Write a Python program that displays your name, age, and address on three different lines."
   ]
  },
  {
   "cell_type": "code",
   "execution_count": 25,
   "metadata": {},
   "outputs": [
    {
     "name": "stdout",
     "output_type": "stream",
     "text": [
      "name : yogesh \n",
      "age : 25 \n",
      "address : jaipur\n"
     ]
    }
   ],
   "source": [
    "def display(name,age,address):\n",
    "    display =  f'name : {name} \\nage : {age} \\naddress : {address}'\n",
    "    print (display)\n",
    "\n",
    "display(\"yogesh\",25,\"jaipur\")"
   ]
  },
  {
   "cell_type": "markdown",
   "metadata": {},
   "source": [
    "# Write a Python program to solve (x + y) * (x + y).\n",
    "# Test Data : x = 4, y = 3\n",
    "# Expected Output : (4 + 3) ^ 2) = 49"
   ]
  },
  {
   "cell_type": "code",
   "execution_count": 30,
   "metadata": {},
   "outputs": [
    {
     "data": {
      "text/plain": [
       "49"
      ]
     },
     "execution_count": 30,
     "metadata": {},
     "output_type": "execute_result"
    }
   ],
   "source": [
    "def math_solv(x,y):\n",
    "    a = x+y\n",
    "    b = x+y\n",
    "    solv = a*b\n",
    "    return solv\n",
    "math_solv(4,3)"
   ]
  },
  {
   "cell_type": "markdown",
   "metadata": {},
   "source": [
    "# 39. Write a Python program to compute the future value of a specified principal amount, rate of interest, and number of years."
   ]
  },
  {
   "cell_type": "code",
   "execution_count": 33,
   "metadata": {},
   "outputs": [
    {
     "data": {
      "text/plain": [
       "12722.792627665729"
      ]
     },
     "execution_count": 33,
     "metadata": {},
     "output_type": "execute_result"
    }
   ],
   "source": [
    "def interest_cal(amt,int_rate,years):\n",
    "    future_value = amt*((1+(int_rate*0.01))**years)\n",
    "    #future_value = amt + int_rate\n",
    "    return future_value\n",
    "interest_cal(10000,3.5,7)"
   ]
  },
  {
   "cell_type": "markdown",
   "metadata": {},
   "source": [
    "# 40. Write a Python program to calculate the distance between the points (x1, y1) and (x2, y2)."
   ]
  },
  {
   "cell_type": "code",
   "execution_count": 38,
   "metadata": {},
   "outputs": [
    {
     "data": {
      "text/plain": [
       "6.324555320336759"
      ]
     },
     "execution_count": 38,
     "metadata": {},
     "output_type": "execute_result"
    }
   ],
   "source": [
    "import math\n",
    "def distance(a,b):\n",
    "    x1 = a[0]\n",
    "    x2 = a[1]\n",
    "    y1 = b[0]\n",
    "    y2 = b[1]\n",
    "    distance = math.sqrt(((x1-y1)**2)+((x2-y2)**2))\n",
    "    return distance\n",
    "distance ([4,0],[6,6])"
   ]
  },
  {
   "cell_type": "markdown",
   "metadata": {},
   "source": [
    "# 41. Write a Python program to check whether a file exists.\n"
   ]
  },
  {
   "cell_type": "code",
   "execution_count": 41,
   "metadata": {},
   "outputs": [
    {
     "name": "stdout",
     "output_type": "stream",
     "text": [
      "True\n"
     ]
    }
   ],
   "source": [
    "import os\n",
    "print (os.path.isfile(\"PYTHONBASIC.ipynb\"))"
   ]
  },
  {
   "cell_type": "markdown",
   "metadata": {},
   "source": [
    "# 42. Write a Python program to determine if a Python shell is executing in 32bit or 64bit mode on OS.\n"
   ]
  },
  {
   "cell_type": "code",
   "execution_count": 42,
   "metadata": {},
   "outputs": [
    {
     "name": "stdout",
     "output_type": "stream",
     "text": [
      "64\n"
     ]
    }
   ],
   "source": [
    "import struct\n",
    "print(struct.calcsize(\"P\") * 8)"
   ]
  },
  {
   "cell_type": "markdown",
   "metadata": {},
   "source": [
    "# 43. Write a Python program to get OS name, platform and release information.\n",
    " "
   ]
  },
  {
   "cell_type": "code",
   "execution_count": 43,
   "metadata": {},
   "outputs": [
    {
     "name": "stdout",
     "output_type": "stream",
     "text": [
      "nt\n",
      "<function system at 0x000001D2984565F0>\n",
      "<function release at 0x000001D298456710>\n"
     ]
    }
   ],
   "source": [
    "import platform\n",
    "import os\n",
    "print (os.name)\n",
    "print (platform.system)\n",
    "print (platform.release)"
   ]
  },
  {
   "cell_type": "markdown",
   "metadata": {},
   "source": [
    "# 44. Write a Python program to locate Python site packages.\n"
   ]
  },
  {
   "cell_type": "code",
   "execution_count": 46,
   "metadata": {},
   "outputs": [
    {
     "name": "stdout",
     "output_type": "stream",
     "text": [
      "['c:\\\\Users\\\\acer\\\\AppData\\\\Local\\\\Programs\\\\Python\\\\Python310', 'c:\\\\Users\\\\acer\\\\AppData\\\\Local\\\\Programs\\\\Python\\\\Python310\\\\lib\\\\site-packages']\n"
     ]
    }
   ],
   "source": [
    "import site; \n",
    "print(site.getsitepackages())"
   ]
  },
  {
   "cell_type": "markdown",
   "metadata": {},
   "source": [
    "# 45. Write a Python program that calls an external command.\n"
   ]
  },
  {
   "cell_type": "code",
   "execution_count": null,
   "metadata": {},
   "outputs": [],
   "source": []
  },
  {
   "cell_type": "markdown",
   "metadata": {},
   "source": [
    "# 46 Write a Python program to retrieve the path and name of the file currently being executed."
   ]
  },
  {
   "cell_type": "code",
   "execution_count": null,
   "metadata": {},
   "outputs": [],
   "source": []
  },
  {
   "cell_type": "markdown",
   "metadata": {},
   "source": [
    "# 47. Write a Python program to find out the number of CPUs used.\n"
   ]
  },
  {
   "cell_type": "code",
   "execution_count": 14,
   "metadata": {},
   "outputs": [
    {
     "name": "stdout",
     "output_type": "stream",
     "text": [
      "4\n"
     ]
    }
   ],
   "source": [
    "import multiprocessing\n",
    "print(multiprocessing.cpu_count())"
   ]
  },
  {
   "cell_type": "markdown",
   "metadata": {},
   "source": [
    "# 48. Write a Python program to parse a string to float or integer.\n"
   ]
  },
  {
   "cell_type": "code",
   "execution_count": 16,
   "metadata": {},
   "outputs": [
    {
     "name": "stdout",
     "output_type": "stream",
     "text": [
      "246.2458\n",
      "246\n"
     ]
    }
   ],
   "source": [
    "n = \"246.2458\"\n",
    "print (float(n))\n",
    "print (int(float(n)))"
   ]
  },
  {
   "cell_type": "markdown",
   "metadata": {},
   "source": [
    "# 49. Write a Python program to list all files in a directory.\n"
   ]
  },
  {
   "cell_type": "code",
   "execution_count": 25,
   "metadata": {},
   "outputs": [
    {
     "name": "stdout",
     "output_type": "stream",
     "text": [
      "ARITHMETIC OPERATOR.ipynb\n",
      "COMPARISON OPERATORS.ipynb\n",
      "OOPS\n",
      "output.txt\n",
      "PRINT FUNCTION.ipynb\n",
      "PRINTFUNCTION.ipynb\n",
      "PYTHONBASIC.ipynb\n",
      "STRING\n",
      "VARIABLE.ipynb\n"
     ]
    }
   ],
   "source": [
    "import os\n",
    "dirlist =  os.listdir('f:\\\\PYTHON\\\\PYTHON BASIC PRACTICE')\n",
    "for i in dirlist:\n",
    "    print (i)\n"
   ]
  },
  {
   "cell_type": "markdown",
   "metadata": {},
   "source": [
    "# 50. Write a Python program to print without a newline or space.\n"
   ]
  },
  {
   "cell_type": "code",
   "execution_count": 33,
   "metadata": {},
   "outputs": [
    {
     "name": "stdout",
     "output_type": "stream",
     "text": [
      "**********\n",
      "\n"
     ]
    }
   ],
   "source": [
    "for i in range(0, 10):\n",
    "    print('*',end=\"\")\n",
    "print (\"\\n\")"
   ]
  },
  {
   "cell_type": "markdown",
   "metadata": {},
   "source": [
    "# 51. Write a Python program to determine the profiling of Python programs.\n",
    "# Note: A profile is a set of statistics that describes how often and for how long various parts of the program executed. These statistics can be formatted into reports via the pstats module."
   ]
  },
  {
   "cell_type": "code",
   "execution_count": 34,
   "metadata": {},
   "outputs": [
    {
     "name": "stdout",
     "output_type": "stream",
     "text": [
      "3\n",
      "         29 function calls in 0.001 seconds\n",
      "\n",
      "   Ordered by: standard name\n",
      "\n",
      "   ncalls  tottime  percall  cumtime  percall filename:lineno(function)\n",
      "        1    0.000    0.000    0.000    0.000 3867616217.py:2(sum)\n",
      "        1    0.000    0.000    0.000    0.000 <string>:1(<module>)\n",
      "        1    0.000    0.000    0.000    0.000 iostream.py:202(schedule)\n",
      "        2    0.000    0.000    0.000    0.000 iostream.py:437(_is_master_process)\n",
      "        2    0.000    0.000    0.000    0.000 iostream.py:456(_schedule_flush)\n",
      "        2    0.000    0.000    0.000    0.000 iostream.py:526(write)\n",
      "        1    0.000    0.000    0.000    0.000 iostream.py:90(_event_pipe)\n",
      "        1    0.000    0.000    0.000    0.000 socket.py:545(send)\n",
      "        1    0.000    0.000    0.000    0.000 threading.py:1102(_wait_for_tstate_lock)\n",
      "        1    0.000    0.000    0.000    0.000 threading.py:1169(is_alive)\n",
      "        1    0.000    0.000    0.000    0.000 threading.py:553(is_set)\n",
      "        1    0.000    0.000    0.001    0.001 {built-in method builtins.exec}\n",
      "        2    0.000    0.000    0.000    0.000 {built-in method builtins.isinstance}\n",
      "        2    0.000    0.000    0.000    0.000 {built-in method builtins.len}\n",
      "        1    0.000    0.000    0.000    0.000 {built-in method builtins.print}\n",
      "        2    0.000    0.000    0.000    0.000 {built-in method nt.getpid}\n",
      "        2    0.000    0.000    0.000    0.000 {method '__exit__' of '_thread.RLock' objects}\n",
      "        1    0.000    0.000    0.000    0.000 {method 'acquire' of '_thread.lock' objects}\n",
      "        1    0.000    0.000    0.000    0.000 {method 'append' of 'collections.deque' objects}\n",
      "        1    0.000    0.000    0.000    0.000 {method 'disable' of '_lsprof.Profiler' objects}\n",
      "        2    0.000    0.000    0.000    0.000 {method 'write' of '_io.StringIO' objects}\n",
      "\n",
      "\n"
     ]
    }
   ],
   "source": [
    "import cProfile\n",
    "def sum():\n",
    "    print(1+2)\n",
    "cProfile.run('sum()')"
   ]
  },
  {
   "cell_type": "markdown",
   "metadata": {},
   "source": [
    "# 52 Write a Python program to print to STDERR."
   ]
  },
  {
   "cell_type": "code",
   "execution_count": 3,
   "metadata": {},
   "outputs": [
    {
     "name": "stderr",
     "output_type": "stream",
     "text": [
      "abc--efg--xyz\n"
     ]
    }
   ],
   "source": [
    "from __future__ import print_function\n",
    "import sys\n",
    "\n",
    "def eprint(*args, **kwargs):\n",
    "    print(*args, file=sys.stderr, **kwargs)\n",
    "\n",
    "eprint(\"abc\", \"efg\", \"xyz\", sep=\"--\")"
   ]
  },
  {
   "cell_type": "markdown",
   "metadata": {},
   "source": [
    "# 53 Write a Python program to access environment variables."
   ]
  },
  {
   "cell_type": "code",
   "execution_count": 7,
   "metadata": {},
   "outputs": [
    {
     "name": "stdout",
     "output_type": "stream",
     "text": [
      "*----------------------------------*\n",
      "environ({'ALLUSERSPROFILE': 'C:\\\\ProgramData', 'APPDATA': 'C:\\\\Users\\\\acer\\\\AppData\\\\Roaming', 'CHROME_CRASHPAD_PIPE_NAME': '\\\\\\\\.\\\\pipe\\\\crashpad_15264_QAOFVKOWUEPPRGZH', 'COMMONPROGRAMFILES': 'C:\\\\Program Files\\\\Common Files', 'COMMONPROGRAMFILES(X86)': 'C:\\\\Program Files (x86)\\\\Common Files', 'COMMONPROGRAMW6432': 'C:\\\\Program Files\\\\Common Files', 'COMPUTERNAME': 'LAPTOP-5FMTV7JH', 'COMSPEC': 'C:\\\\WINDOWS\\\\system32\\\\cmd.exe', 'DRIVERDATA': 'C:\\\\Windows\\\\System32\\\\Drivers\\\\DriverData', 'EFC_18636': '1', 'ELECTRON_RUN_AS_NODE': '1', 'FPS_BROWSER_APP_PROFILE_STRING': 'Internet Explorer', 'FPS_BROWSER_USER_PROFILE_STRING': 'Default', 'HOMEDRIVE': 'C:', 'HOMEPATH': '\\\\Users\\\\acer', 'JPY_INTERRUPT_EVENT': '2080', 'LOCALAPPDATA': 'C:\\\\Users\\\\acer\\\\AppData\\\\Local', 'LOGONSERVER': '\\\\\\\\LAPTOP-5FMTV7JH', 'MOZ_PLUGIN_PATH': 'C:\\\\Program Files (x86)\\\\Foxit Software\\\\Foxit Reader\\\\plugins\\\\', 'NUMBER_OF_PROCESSORS': '4', 'ONEDRIVE': 'C:\\\\Users\\\\acer\\\\OneDrive', 'ORIGINAL_XDG_CURRENT_DESKTOP': 'undefined', 'OS': 'Windows_NT', 'PATH': 'c:\\\\Users\\\\acer\\\\AppData\\\\Local\\\\Programs\\\\Python\\\\Python310;c:\\\\Users\\\\acer\\\\AppData\\\\Roaming\\\\Python\\\\Python310\\\\Scripts;C:\\\\WINDOWS\\\\system32;C:\\\\WINDOWS;C:\\\\WINDOWS\\\\System32\\\\Wbem;C:\\\\WINDOWS\\\\System32\\\\WindowsPowerShell\\\\v1.0\\\\;C:\\\\WINDOWS\\\\System32\\\\OpenSSH\\\\;C:\\\\Program Files\\\\Git\\\\cmd;C:\\\\Program Files (x86)\\\\Microsoft SQL Server\\\\160\\\\Tools\\\\Binn\\\\;C:\\\\Program Files\\\\Microsoft SQL Server\\\\160\\\\Tools\\\\Binn\\\\;C:\\\\Program Files\\\\Microsoft SQL Server\\\\Client SDK\\\\ODBC\\\\170\\\\Tools\\\\Binn\\\\;C:\\\\Program Files\\\\Microsoft SQL Server\\\\160\\\\DTS\\\\Binn\\\\;C:\\\\Program Files (x86)\\\\Microsoft SQL Server\\\\160\\\\DTS\\\\Binn\\\\;C:\\\\Program Files\\\\Azure Data Studio\\\\bin;C:\\\\WINDOWS\\\\system32;C:\\\\WINDOWS;C:\\\\WINDOWS\\\\System32\\\\Wbem;C:\\\\WINDOWS\\\\System32\\\\WindowsPowerShell\\\\v1.0\\\\;C:\\\\WINDOWS\\\\System32\\\\OpenSSH\\\\;C:\\\\Program Files\\\\Git\\\\cmd;C:\\\\Program Files (x86)\\\\Microsoft SQL Server\\\\160\\\\Tools\\\\Binn\\\\;C:\\\\Program Files\\\\Microsoft SQL Server\\\\160\\\\Tools\\\\Binn\\\\;C:\\\\Program Files\\\\Microsoft SQL Server\\\\Client SDK\\\\ODBC\\\\170\\\\Tools\\\\Binn\\\\;C:\\\\Program Files\\\\Microsoft SQL Server\\\\160\\\\DTS\\\\Binn\\\\;C:\\\\Users\\\\acer\\\\anaconda3;C:\\\\Users\\\\acer\\\\anaconda3\\\\Library\\\\mingw-w64\\\\bin;C:\\\\Users\\\\acer\\\\anaconda3\\\\Library\\\\usr\\\\bin;C:\\\\Users\\\\acer\\\\anaconda3\\\\Library\\\\bin;C:\\\\Users\\\\acer\\\\anaconda3\\\\Scripts;C:\\\\Users\\\\acer\\\\anaconda3\\\\bin;C:\\\\Users\\\\acer\\\\anaconda3\\\\condabin;C:\\\\WINDOWS\\\\system32;C:\\\\WINDOWS;C:\\\\WINDOWS\\\\System32\\\\Wbem;C:\\\\WINDOWS\\\\System32\\\\WindowsPowerShell\\\\v1.0;C:\\\\WINDOWS\\\\System32\\\\OpenSSH;C:\\\\Program Files\\\\Git\\\\cmd;C:\\\\Users\\\\acer\\\\AppData\\\\Local\\\\Programs\\\\Python\\\\Python310\\\\Scripts;C:\\\\Users\\\\acer\\\\AppData\\\\Local\\\\Programs\\\\Python\\\\Python310;C:\\\\Users\\\\acer\\\\AppData\\\\Local\\\\Microsoft\\\\WindowsApps;C:\\\\Users\\\\acer\\\\AppData\\\\Local\\\\Programs\\\\Microsoft VS Code\\\\bin;C:\\\\Users\\\\<username;C:\\\\Program Files\\\\Azure Data Studio\\\\bin;C:\\\\WINDOWS\\\\system32;C:\\\\WINDOWS;C:\\\\WINDOWS\\\\System32\\\\Wbem;C:\\\\WINDOWS\\\\System32\\\\WindowsPowerShell\\\\v1.0\\\\;C:\\\\WINDOWS\\\\System32\\\\OpenSSH\\\\;C:\\\\Program Files\\\\Git\\\\cmd;C:\\\\Program Files (x86)\\\\Microsoft SQL Server\\\\160\\\\Tools\\\\Binn\\\\;C:\\\\Program Files\\\\Microsoft SQL Server\\\\160\\\\Tools\\\\Binn\\\\;C:\\\\Program Files\\\\Microsoft SQL Server\\\\Client SDK\\\\ODBC\\\\170\\\\Tools\\\\Binn\\\\;C:\\\\Program Files\\\\Microsoft SQL Server\\\\160\\\\DTS\\\\Binn\\\\;C:\\\\Program Files (x86)\\\\Microsoft SQL Server\\\\160\\\\DTS\\\\Binn\\\\;C:\\\\Program Files\\\\Azure Data Studio\\\\bin;C:\\\\WINDOWS\\\\system32;C:\\\\WINDOWS;C:\\\\WINDOWS\\\\System32\\\\Wbem;C:\\\\WINDOWS\\\\System32\\\\WindowsPowerShell\\\\v1.0\\\\;C:\\\\WINDOWS\\\\System32\\\\OpenSSH\\\\;C:\\\\Program Files\\\\Git\\\\cmd;C:\\\\Program Files (x86)\\\\Microsoft SQL Server\\\\160\\\\Tools\\\\Binn\\\\;C:\\\\Program Files\\\\Microsoft SQL Server\\\\160\\\\Tools\\\\Binn\\\\;C:\\\\Program Files\\\\Microsoft SQL Server\\\\Client SDK\\\\ODBC\\\\170\\\\Tools\\\\Binn\\\\;C:\\\\Program Files\\\\Microsoft SQL Server\\\\160\\\\DTS\\\\Binn\\\\;C:\\\\Users\\\\acer\\\\anaconda3;C:\\\\Users\\\\acer\\\\anaconda3\\\\Library\\\\mingw-w64\\\\bin;C:\\\\Users\\\\acer\\\\anaconda3\\\\Library\\\\usr\\\\bin;C:\\\\Users\\\\acer\\\\anaconda3\\\\Library\\\\bin;C:\\\\Users\\\\acer\\\\anaconda3\\\\Scripts;C:\\\\Users\\\\acer\\\\anaconda3\\\\bin;C:\\\\Users\\\\acer\\\\anaconda3\\\\condabin;C:\\\\WINDOWS\\\\system32;C:\\\\WINDOWS;C:\\\\WINDOWS\\\\System32\\\\Wbem;C:\\\\WINDOWS\\\\System32\\\\WindowsPowerShell\\\\v1.0;C:\\\\WINDOWS\\\\System32\\\\OpenSSH;C:\\\\Program Files\\\\Git\\\\cmd;C:\\\\Users\\\\acer\\\\AppData\\\\Local\\\\Programs\\\\Python\\\\Python310\\\\Scripts;C:\\\\Users\\\\acer\\\\AppData\\\\Local\\\\Programs\\\\Python\\\\Python310;C:\\\\Users\\\\acer\\\\AppData\\\\Local\\\\Microsoft\\\\WindowsApps;C:\\\\Users\\\\acer\\\\AppData\\\\Local\\\\Programs\\\\Microsoft VS Code\\\\bin;C:\\\\Users\\\\<username;C:\\\\Program Files\\\\Azure Data Studio\\\\bin', 'PATHEXT': '.COM;.EXE;.BAT;.CMD;.VBS;.VBE;.JS;.JSE;.WSF;.WSH;.MSC', 'PROCESSOR_ARCHITECTURE': 'AMD64', 'PROCESSOR_IDENTIFIER': 'Intel64 Family 6 Model 140 Stepping 1, GenuineIntel', 'PROCESSOR_LEVEL': '6', 'PROCESSOR_REVISION': '8c01', 'PROGRAMDATA': 'C:\\\\ProgramData', 'PROGRAMFILES': 'C:\\\\Program Files', 'PROGRAMFILES(X86)': 'C:\\\\Program Files (x86)', 'PROGRAMW6432': 'C:\\\\Program Files', 'PSMODULEPATH': 'C:\\\\Program Files\\\\WindowsPowerShell\\\\Modules;C:\\\\WINDOWS\\\\system32\\\\WindowsPowerShell\\\\v1.0\\\\Modules;C:\\\\Program Files (x86)\\\\Microsoft SQL Server\\\\160\\\\Tools\\\\PowerShell\\\\Modules\\\\', 'PUBLIC': 'C:\\\\Users\\\\Public', 'PYDEVD_IPYTHON_COMPATIBLE_DEBUGGING': '1', 'PYTHONIOENCODING': 'utf-8', 'PYTHONUNBUFFERED': '1', 'SESSIONNAME': 'Console', 'SYSTEMDRIVE': 'C:', 'SYSTEMROOT': 'C:\\\\WINDOWS', 'TEMP': 'C:\\\\Users\\\\acer\\\\AppData\\\\Local\\\\Temp', 'TMP': 'C:\\\\Users\\\\acer\\\\AppData\\\\Local\\\\Temp', 'USERDOMAIN': 'LAPTOP-5FMTV7JH', 'USERDOMAIN_ROAMINGPROFILE': 'LAPTOP-5FMTV7JH', 'USERNAME': 'acer', 'USERPROFILE': 'C:\\\\Users\\\\acer', 'VSCODE_AMD_ENTRYPOINT': 'vs/workbench/api/node/extensionHostProcess', 'VSCODE_CODE_CACHE_PATH': 'C:\\\\Users\\\\acer\\\\AppData\\\\Roaming\\\\Code\\\\CachedData\\\\fdb98833154679dbaa7af67a5a29fe19e55c2b73', 'VSCODE_CRASH_REPORTER_PROCESS_TYPE': 'extensionHost', 'VSCODE_CWD': 'F:\\\\PYTHON\\\\PYTHON BASIC PRACTICE', 'VSCODE_HANDLES_UNCAUGHT_ERRORS': 'true', 'VSCODE_IPC_HOOK': '\\\\\\\\.\\\\pipe\\\\929c9db10fbad29ade8ce551d35e9392-1.82.3-main-sock', 'VSCODE_NLS_CONFIG': '{\"locale\":\"en-us\",\"osLocale\":\"en-in\",\"availableLanguages\":{},\"_languagePackSupport\":true}', 'VSCODE_PID': '15264', 'WINDIR': 'C:\\\\WINDOWS', 'ZES_ENABLE_SYSMAN': '1', '__COMPAT_LAYER': 'DetectorsAppHealth', 'TERM': 'xterm-color', 'CLICOLOR': '1', 'PAGER': 'cat', 'GIT_PAGER': 'cat', 'MPLBACKEND': 'module://matplotlib_inline.backend_inline'})\n",
      "*----------------------------------*\n",
      "*----------------------------------*\n",
      "c:\\Users\\acer\\AppData\\Local\\Programs\\Python\\Python310;c:\\Users\\acer\\AppData\\Roaming\\Python\\Python310\\Scripts;C:\\WINDOWS\\system32;C:\\WINDOWS;C:\\WINDOWS\\System32\\Wbem;C:\\WINDOWS\\System32\\WindowsPowerShell\\v1.0\\;C:\\WINDOWS\\System32\\OpenSSH\\;C:\\Program Files\\Git\\cmd;C:\\Program Files (x86)\\Microsoft SQL Server\\160\\Tools\\Binn\\;C:\\Program Files\\Microsoft SQL Server\\160\\Tools\\Binn\\;C:\\Program Files\\Microsoft SQL Server\\Client SDK\\ODBC\\170\\Tools\\Binn\\;C:\\Program Files\\Microsoft SQL Server\\160\\DTS\\Binn\\;C:\\Program Files (x86)\\Microsoft SQL Server\\160\\DTS\\Binn\\;C:\\Program Files\\Azure Data Studio\\bin;C:\\WINDOWS\\system32;C:\\WINDOWS;C:\\WINDOWS\\System32\\Wbem;C:\\WINDOWS\\System32\\WindowsPowerShell\\v1.0\\;C:\\WINDOWS\\System32\\OpenSSH\\;C:\\Program Files\\Git\\cmd;C:\\Program Files (x86)\\Microsoft SQL Server\\160\\Tools\\Binn\\;C:\\Program Files\\Microsoft SQL Server\\160\\Tools\\Binn\\;C:\\Program Files\\Microsoft SQL Server\\Client SDK\\ODBC\\170\\Tools\\Binn\\;C:\\Program Files\\Microsoft SQL Server\\160\\DTS\\Binn\\;C:\\Users\\acer\\anaconda3;C:\\Users\\acer\\anaconda3\\Library\\mingw-w64\\bin;C:\\Users\\acer\\anaconda3\\Library\\usr\\bin;C:\\Users\\acer\\anaconda3\\Library\\bin;C:\\Users\\acer\\anaconda3\\Scripts;C:\\Users\\acer\\anaconda3\\bin;C:\\Users\\acer\\anaconda3\\condabin;C:\\WINDOWS\\system32;C:\\WINDOWS;C:\\WINDOWS\\System32\\Wbem;C:\\WINDOWS\\System32\\WindowsPowerShell\\v1.0;C:\\WINDOWS\\System32\\OpenSSH;C:\\Program Files\\Git\\cmd;C:\\Users\\acer\\AppData\\Local\\Programs\\Python\\Python310\\Scripts;C:\\Users\\acer\\AppData\\Local\\Programs\\Python\\Python310;C:\\Users\\acer\\AppData\\Local\\Microsoft\\WindowsApps;C:\\Users\\acer\\AppData\\Local\\Programs\\Microsoft VS Code\\bin;C:\\Users\\<username;C:\\Program Files\\Azure Data Studio\\bin;C:\\WINDOWS\\system32;C:\\WINDOWS;C:\\WINDOWS\\System32\\Wbem;C:\\WINDOWS\\System32\\WindowsPowerShell\\v1.0\\;C:\\WINDOWS\\System32\\OpenSSH\\;C:\\Program Files\\Git\\cmd;C:\\Program Files (x86)\\Microsoft SQL Server\\160\\Tools\\Binn\\;C:\\Program Files\\Microsoft SQL Server\\160\\Tools\\Binn\\;C:\\Program Files\\Microsoft SQL Server\\Client SDK\\ODBC\\170\\Tools\\Binn\\;C:\\Program Files\\Microsoft SQL Server\\160\\DTS\\Binn\\;C:\\Program Files (x86)\\Microsoft SQL Server\\160\\DTS\\Binn\\;C:\\Program Files\\Azure Data Studio\\bin;C:\\WINDOWS\\system32;C:\\WINDOWS;C:\\WINDOWS\\System32\\Wbem;C:\\WINDOWS\\System32\\WindowsPowerShell\\v1.0\\;C:\\WINDOWS\\System32\\OpenSSH\\;C:\\Program Files\\Git\\cmd;C:\\Program Files (x86)\\Microsoft SQL Server\\160\\Tools\\Binn\\;C:\\Program Files\\Microsoft SQL Server\\160\\Tools\\Binn\\;C:\\Program Files\\Microsoft SQL Server\\Client SDK\\ODBC\\170\\Tools\\Binn\\;C:\\Program Files\\Microsoft SQL Server\\160\\DTS\\Binn\\;C:\\Users\\acer\\anaconda3;C:\\Users\\acer\\anaconda3\\Library\\mingw-w64\\bin;C:\\Users\\acer\\anaconda3\\Library\\usr\\bin;C:\\Users\\acer\\anaconda3\\Library\\bin;C:\\Users\\acer\\anaconda3\\Scripts;C:\\Users\\acer\\anaconda3\\bin;C:\\Users\\acer\\anaconda3\\condabin;C:\\WINDOWS\\system32;C:\\WINDOWS;C:\\WINDOWS\\System32\\Wbem;C:\\WINDOWS\\System32\\WindowsPowerShell\\v1.0;C:\\WINDOWS\\System32\\OpenSSH;C:\\Program Files\\Git\\cmd;C:\\Users\\acer\\AppData\\Local\\Programs\\Python\\Python310\\Scripts;C:\\Users\\acer\\AppData\\Local\\Programs\\Python\\Python310;C:\\Users\\acer\\AppData\\Local\\Microsoft\\WindowsApps;C:\\Users\\acer\\AppData\\Local\\Programs\\Microsoft VS Code\\bin;C:\\Users\\<username;C:\\Program Files\\Azure Data Studio\\bin\n",
      "*----------------------------------*\n"
     ]
    }
   ],
   "source": [
    "import os\n",
    "# Access all environment variables \n",
    "print('*----------------------------------*')\n",
    "print(os.environ)\n",
    "print('*----------------------------------*')\n",
    "# Access a particular environment variable \n",
    "#print(os.environ['HOME'])\n",
    "print('*----------------------------------*')\n",
    "print(os.environ['PATH'])\n",
    "print('*----------------------------------*')"
   ]
  },
  {
   "cell_type": "markdown",
   "metadata": {},
   "source": [
    "# 54 Write a Python program to get the current username."
   ]
  },
  {
   "cell_type": "code",
   "execution_count": 8,
   "metadata": {},
   "outputs": [
    {
     "name": "stdout",
     "output_type": "stream",
     "text": [
      "acer\n"
     ]
    }
   ],
   "source": [
    "import getpass\n",
    "print(getpass.getuser())"
   ]
  },
  {
   "cell_type": "markdown",
   "metadata": {},
   "source": [
    "# 55  Write a Python program to find local IP addresses using Python's stdlib."
   ]
  },
  {
   "cell_type": "code",
   "execution_count": 9,
   "metadata": {},
   "outputs": [
    {
     "name": "stdout",
     "output_type": "stream",
     "text": [
      "192.168.1.5\n"
     ]
    }
   ],
   "source": [
    "import socket\n",
    "print([l for l in ([ip for ip in socket.gethostbyname_ex(socket.gethostname())[2] \n",
    "if not ip.startswith(\"127.\")][:1], [[(s.connect(('8.8.8.8', 53)), \n",
    "s.getsockname()[0], s.close()) for s in [socket.socket(socket.AF_INET, \n",
    "socket.SOCK_DGRAM)]][0][1]]) if l][0][0])"
   ]
  },
  {
   "cell_type": "markdown",
   "metadata": {},
   "source": [
    "# 56. Write a Python program to get the height and width of the console window.\n"
   ]
  },
  {
   "cell_type": "code",
   "execution_count": 22,
   "metadata": {},
   "outputs": [
    {
     "ename": "ModuleNotFoundError",
     "evalue": "No module named 'fcntl'",
     "output_type": "error",
     "traceback": [
      "\u001b[1;31m---------------------------------------------------------------------------\u001b[0m",
      "\u001b[1;31mModuleNotFoundError\u001b[0m                       Traceback (most recent call last)",
      "\u001b[1;32mf:\\PYTHON\\PYTHON BASIC PRACTICE\\PYTHONBASIC.ipynb Cell 110\u001b[0m line \u001b[0;36m8\n\u001b[0;32m      <a href='vscode-notebook-cell:/f%3A/PYTHON/PYTHON%20BASIC%20PRACTICE/PYTHONBASIC.ipynb#Y220sZmlsZQ%3D%3D?line=2'>3</a>\u001b[0m     th, tw, hp, wp \u001b[39m=\u001b[39m struct\u001b[39m.\u001b[39munpack(\u001b[39m'\u001b[39m\u001b[39mHHHH\u001b[39m\u001b[39m'\u001b[39m,\n\u001b[0;32m      <a href='vscode-notebook-cell:/f%3A/PYTHON/PYTHON%20BASIC%20PRACTICE/PYTHONBASIC.ipynb#Y220sZmlsZQ%3D%3D?line=3'>4</a>\u001b[0m         fcntl\u001b[39m.\u001b[39mioctl(\u001b[39m0\u001b[39m, termios\u001b[39m.\u001b[39mTIOCGWINSZ,\n\u001b[0;32m      <a href='vscode-notebook-cell:/f%3A/PYTHON/PYTHON%20BASIC%20PRACTICE/PYTHONBASIC.ipynb#Y220sZmlsZQ%3D%3D?line=4'>5</a>\u001b[0m         struct\u001b[39m.\u001b[39mpack(\u001b[39m'\u001b[39m\u001b[39mHHHH\u001b[39m\u001b[39m'\u001b[39m, \u001b[39m0\u001b[39m, \u001b[39m0\u001b[39m, \u001b[39m0\u001b[39m, \u001b[39m0\u001b[39m)))\n\u001b[0;32m      <a href='vscode-notebook-cell:/f%3A/PYTHON/PYTHON%20BASIC%20PRACTICE/PYTHONBASIC.ipynb#Y220sZmlsZQ%3D%3D?line=5'>6</a>\u001b[0m     \u001b[39mreturn\u001b[39;00m tw, th\n\u001b[1;32m----> <a href='vscode-notebook-cell:/f%3A/PYTHON/PYTHON%20BASIC%20PRACTICE/PYTHONBASIC.ipynb#Y220sZmlsZQ%3D%3D?line=7'>8</a>\u001b[0m \u001b[39mprint\u001b[39m(\u001b[39m'\u001b[39m\u001b[39mNumber of columns and Rows: \u001b[39m\u001b[39m'\u001b[39m,terminal_size())\n",
      "\u001b[1;32mf:\\PYTHON\\PYTHON BASIC PRACTICE\\PYTHONBASIC.ipynb Cell 110\u001b[0m line \u001b[0;36m2\n\u001b[0;32m      <a href='vscode-notebook-cell:/f%3A/PYTHON/PYTHON%20BASIC%20PRACTICE/PYTHONBASIC.ipynb#Y220sZmlsZQ%3D%3D?line=0'>1</a>\u001b[0m \u001b[39mdef\u001b[39;00m \u001b[39mterminal_size\u001b[39m():\n\u001b[1;32m----> <a href='vscode-notebook-cell:/f%3A/PYTHON/PYTHON%20BASIC%20PRACTICE/PYTHONBASIC.ipynb#Y220sZmlsZQ%3D%3D?line=1'>2</a>\u001b[0m     \u001b[39mimport\u001b[39;00m \u001b[39mfcntl\u001b[39;00m\u001b[39m,\u001b[39m \u001b[39mtermios\u001b[39;00m\u001b[39m,\u001b[39m \u001b[39mstruct\u001b[39;00m\n\u001b[0;32m      <a href='vscode-notebook-cell:/f%3A/PYTHON/PYTHON%20BASIC%20PRACTICE/PYTHONBASIC.ipynb#Y220sZmlsZQ%3D%3D?line=2'>3</a>\u001b[0m     th, tw, hp, wp \u001b[39m=\u001b[39m struct\u001b[39m.\u001b[39munpack(\u001b[39m'\u001b[39m\u001b[39mHHHH\u001b[39m\u001b[39m'\u001b[39m,\n\u001b[0;32m      <a href='vscode-notebook-cell:/f%3A/PYTHON/PYTHON%20BASIC%20PRACTICE/PYTHONBASIC.ipynb#Y220sZmlsZQ%3D%3D?line=3'>4</a>\u001b[0m         fcntl\u001b[39m.\u001b[39mioctl(\u001b[39m0\u001b[39m, termios\u001b[39m.\u001b[39mTIOCGWINSZ,\n\u001b[0;32m      <a href='vscode-notebook-cell:/f%3A/PYTHON/PYTHON%20BASIC%20PRACTICE/PYTHONBASIC.ipynb#Y220sZmlsZQ%3D%3D?line=4'>5</a>\u001b[0m         struct\u001b[39m.\u001b[39mpack(\u001b[39m'\u001b[39m\u001b[39mHHHH\u001b[39m\u001b[39m'\u001b[39m, \u001b[39m0\u001b[39m, \u001b[39m0\u001b[39m, \u001b[39m0\u001b[39m, \u001b[39m0\u001b[39m)))\n\u001b[0;32m      <a href='vscode-notebook-cell:/f%3A/PYTHON/PYTHON%20BASIC%20PRACTICE/PYTHONBASIC.ipynb#Y220sZmlsZQ%3D%3D?line=5'>6</a>\u001b[0m     \u001b[39mreturn\u001b[39;00m tw, th\n",
      "\u001b[1;31mModuleNotFoundError\u001b[0m: No module named 'fcntl'"
     ]
    }
   ],
   "source": [
    "def terminal_size():\n",
    "    import fcntl, termios, struct\n",
    "    th, tw, hp, wp = struct.unpack('HHHH',\n",
    "        fcntl.ioctl(0, termios.TIOCGWINSZ,\n",
    "        struct.pack('HHHH', 0, 0, 0, 0)))\n",
    "    return tw, th\n",
    "\n",
    "print('Number of columns and Rows: ',terminal_size())"
   ]
  },
  {
   "cell_type": "markdown",
   "metadata": {},
   "source": [
    "#  Write a Python program to get the execution time of a Python method."
   ]
  },
  {
   "cell_type": "code",
   "execution_count": 27,
   "metadata": {},
   "outputs": [
    {
     "name": "stdout",
     "output_type": "stream",
     "text": [
      "\n",
      "Time to sum of 1 to  5  and required time to calculate is : (15, 0.0)\n"
     ]
    }
   ],
   "source": [
    "import time\n",
    "def sum_of_n_numbers(n):\n",
    "    start_time = time.time()\n",
    "    s = 0\n",
    "    for i in range(1,n+1):\n",
    "        s = s + i\n",
    "    end_time = time.time()\n",
    "    return s,end_time-start_time\n",
    "\n",
    "n = 5\n",
    "print(\"\\nTime to sum of 1 to \",n,\" and required time to calculate is :\",sum_of_n_numbers(n))\n",
    "    "
   ]
  },
  {
   "cell_type": "markdown",
   "metadata": {},
   "source": [
    "# 58. Write a Python program to sum the first n positive integers."
   ]
  },
  {
   "cell_type": "code",
   "execution_count": 36,
   "metadata": {},
   "outputs": [
    {
     "data": {
      "text/plain": [
       "36"
      ]
     },
     "execution_count": 36,
     "metadata": {},
     "output_type": "execute_result"
    }
   ],
   "source": [
    "def sum_first_n_positive_int(n):\n",
    "    numbers = [1,2,3,4,5,6,7,8]\n",
    "    sum = 0\n",
    "    for i in numbers:\n",
    "        sum = sum +i\n",
    "\n",
    "    return sum\n",
    "\n",
    "    \n",
    "\n",
    "sum_first_n_positive_int(8)\n"
   ]
  },
  {
   "cell_type": "markdown",
   "metadata": {},
   "source": [
    "# 59. Write a Python program to convert height (in feet and inches) to centimeters"
   ]
  },
  {
   "cell_type": "code",
   "execution_count": 37,
   "metadata": {},
   "outputs": [
    {
     "data": {
      "text/plain": [
       "170.688"
      ]
     },
     "execution_count": 37,
     "metadata": {},
     "output_type": "execute_result"
    }
   ],
   "source": [
    "def convert_height(height_in_feet):\n",
    "    height_in_inch = height_in_feet * (30.48)\n",
    "    return height_in_inch\n",
    "\n",
    "convert_height (5.6)"
   ]
  },
  {
   "cell_type": "markdown",
   "metadata": {},
   "source": [
    "# 60 Write a Python program to calculate the hypotenuse of a right angled triangle."
   ]
  },
  {
   "cell_type": "code",
   "execution_count": 38,
   "metadata": {},
   "outputs": [
    {
     "name": "stdout",
     "output_type": "stream",
     "text": [
      "5.0\n"
     ]
    }
   ],
   "source": [
    "import numpy as np\n",
    "AB = 4\n",
    "BC = 3\n",
    "result = np.sqrt(AB**2+BC**2)\n",
    "print (result)\n"
   ]
  }
 ],
 "metadata": {
  "kernelspec": {
   "display_name": "Python 3",
   "language": "python",
   "name": "python3"
  },
  "language_info": {
   "codemirror_mode": {
    "name": "ipython",
    "version": 3
   },
   "file_extension": ".py",
   "mimetype": "text/x-python",
   "name": "python",
   "nbconvert_exporter": "python",
   "pygments_lexer": "ipython3",
   "version": "3.10.8"
  },
  "orig_nbformat": 4
 },
 "nbformat": 4,
 "nbformat_minor": 2
}
