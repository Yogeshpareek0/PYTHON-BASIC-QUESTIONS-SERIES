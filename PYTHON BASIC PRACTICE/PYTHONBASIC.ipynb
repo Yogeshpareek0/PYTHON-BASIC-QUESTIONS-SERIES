{
 "cells": [
  {
   "cell_type": "code",
   "execution_count": 2,
   "metadata": {},
   "outputs": [],
   "source": [
    "#1. Write a Python program to print the following string in a specific format (see the output).\n",
    "#Sample String : \"Twinkle, twinkle, little star, How I wonder what you are! Up above the world so high, Like a diamond in the sky. Twinkle, twinkle, little star, How I wonder what you are\"\n",
    "#Output :\n",
    "\n",
    "#Twinkle, twinkle, little star,\n",
    "#\tHow I wonder what you are! \n",
    "#\t\tUp above the world so high,   \t\t\n",
    "#\t\tLike a diamond in the sky. \n",
    "#Twinkle, twinkle, little star, \n",
    "#\tHow I wonder what you are"
   ]
  },
  {
   "cell_type": "code",
   "execution_count": 24,
   "metadata": {},
   "outputs": [
    {
     "name": "stdout",
     "output_type": "stream",
     "text": [
      "Twinkle, twinkle, little star, \n",
      "   How I wonder what you are! \n",
      "\tUp above the world so high, \n",
      "\tLike a diamond in the sky. \n",
      "Twinkle, twinkle, little star, \n",
      "How I wonder what you are\n"
     ]
    }
   ],
   "source": [
    "print ('Twinkle, twinkle, little star, \\n   How I wonder what you are! \\n\\tUp above the world so high, \\n\\tLike a diamond in the sky. \\nTwinkle, twinkle, little star, \\nHow I wonder what you are')"
   ]
  },
  {
   "cell_type": "markdown",
   "metadata": {},
   "source": [
    "# Write a Python program to find out what version of Python you are using."
   ]
  },
  {
   "cell_type": "code",
   "execution_count": 30,
   "metadata": {},
   "outputs": [
    {
     "name": "stdout",
     "output_type": "stream",
     "text": [
      "3.10.8 (tags/v3.10.8:aaaf517, Oct 11 2022, 16:50:30) [MSC v.1933 64 bit (AMD64)]\n",
      "sys.version_info(major=3, minor=10, micro=8, releaselevel='final', serial=0)\n"
     ]
    }
   ],
   "source": [
    "import sys\n",
    "print(sys.version)\n",
    "print(sys.version_info)"
   ]
  },
  {
   "cell_type": "markdown",
   "metadata": {},
   "source": [
    "# Write a Python program to display the current date and time."
   ]
  },
  {
   "cell_type": "code",
   "execution_count": 47,
   "metadata": {},
   "outputs": [
    {
     "name": "stdout",
     "output_type": "stream",
     "text": [
      "current date and time:\n",
      "09-08-2023 22:26:05\n"
     ]
    }
   ],
   "source": [
    "import datetime\n",
    "now = datetime.datetime.now()\n",
    "print (\"current date and time:\")\n",
    "print (now.strftime(\"%d-%m-%Y %H:%M:%S\"))"
   ]
  },
  {
   "cell_type": "markdown",
   "metadata": {},
   "source": [
    "# Write a Python program that calculates the area of a circle based on the radius entered by the user."
   ]
  },
  {
   "cell_type": "code",
   "execution_count": 52,
   "metadata": {},
   "outputs": [
    {
     "name": "stdout",
     "output_type": "stream",
     "text": [
      "3.80\n"
     ]
    }
   ],
   "source": [
    "import math\n",
    "r = 1.1\n",
    "area =  ((math.pi)*r**2)\n",
    "circle_area = \"{:.2f}\".format(area)\n",
    "print (circle_area)"
   ]
  },
  {
   "cell_type": "markdown",
   "metadata": {},
   "source": [
    "# Write a Python program that accepts the user's first and last name and prints them in reverse order with a space between them."
   ]
  },
  {
   "cell_type": "code",
   "execution_count": 54,
   "metadata": {},
   "outputs": [
    {
     "name": "stdout",
     "output_type": "stream",
     "text": [
      "keerap hsegoy\n"
     ]
    }
   ],
   "source": [
    "firstname = \"yogesh\"\n",
    "lastname = \"pareek\"\n",
    "name = firstname +\" \"+ lastname\n",
    "name = name[::-1]\n",
    "print (name)"
   ]
  },
  {
   "cell_type": "markdown",
   "metadata": {},
   "source": [
    "\n",
    "# Write a Python program that accepts a sequence of comma-separated numbers from the user and generates a list and a tuple of those numbers."
   ]
  },
  {
   "cell_type": "code",
   "execution_count": 89,
   "metadata": {},
   "outputs": [
    {
     "name": "stdout",
     "output_type": "stream",
     "text": [
      "['1', '2', '3', '4', '5', '6', '7', '8', '9']\n",
      "('1', '2', '3', '4', '5', '6', '7', '8', '9')\n"
     ]
    }
   ],
   "source": [
    "number = \"1,2,3,4,5,6,7,8,9\"\n",
    "number_list = []\n",
    "for i in range(0,(len(number)),2):\n",
    "    number_list.append(number[i])\n",
    "print (number_list)\n",
    "number_tuple = tuple(number_list)\n",
    "print (number_tuple)"
   ]
  },
  {
   "cell_type": "markdown",
   "metadata": {},
   "source": [
    "# Write a Python program that accepts a filename from the user and prints the extension of the file."
   ]
  },
  {
   "cell_type": "code",
   "execution_count": 101,
   "metadata": {},
   "outputs": [
    {
     "name": "stdout",
     "output_type": "stream",
     "text": [
      "The extension of the file is : 'ipynb'\n"
     ]
    }
   ],
   "source": [
    "filename = \"python.ipynb\"\n",
    "f_extns = filename.split(\".\")\n",
    "print (\"The extension of the file is : \" + repr(f_extns[-1]))"
   ]
  },
  {
   "cell_type": "markdown",
   "metadata": {},
   "source": [
    "# Write a Python program to display the first and last colors from the following list."
   ]
  },
  {
   "cell_type": "code",
   "execution_count": 108,
   "metadata": {},
   "outputs": [
    {
     "name": "stdout",
     "output_type": "stream",
     "text": [
      "first color is 'Red' last color is 'Black'\n"
     ]
    }
   ],
   "source": [
    "color_list = [\"Red\",\"Green\",\"White\" ,\"Black\"]\n",
    "first_index = 0\n",
    "last_index = (len(color_list)-1)\n",
    "print (f\"first color is {repr(color_list[first_index])} last color is {repr(color_list[last_index])}\")"
   ]
  },
  {
   "cell_type": "markdown",
   "metadata": {},
   "source": [
    "# Write a Python program to display the examination schedule. (extract the date from exam_st_date)."
   ]
  },
  {
   "cell_type": "code",
   "execution_count": 152,
   "metadata": {},
   "outputs": [
    {
     "name": "stdout",
     "output_type": "stream",
     "text": [
      "The examination will start from : 11 / 12 / 2017\n"
     ]
    }
   ],
   "source": [
    "exam_st_date = (11,12,2017)\n",
    "print( \"The examination will start from : %i / %i / %i\"%exam_st_date)"
   ]
  },
  {
   "cell_type": "markdown",
   "metadata": {},
   "source": [
    "# Write a Python program that accepts an integer (n) and computes the value of n+nn+nnn.\n",
    "# Sample value of n is 5\n",
    "# Expected Result : 615"
   ]
  },
  {
   "cell_type": "code",
   "execution_count": 160,
   "metadata": {},
   "outputs": [
    {
     "name": "stdout",
     "output_type": "stream",
     "text": [
      "615\n"
     ]
    }
   ],
   "source": [
    "n = 5\n",
    "number1 = n\n",
    "number2 = int(str(n)+str(n))\n",
    "number3 = int(str(n)+str(n)+str(n))\n",
    "print (number1+number2+number3)"
   ]
  },
  {
   "cell_type": "markdown",
   "metadata": {},
   "source": [
    "# Write a Python program that prints the calendar for a given month and year."
   ]
  },
  {
   "cell_type": "code",
   "execution_count": 196,
   "metadata": {},
   "outputs": [
    {
     "name": "stdout",
     "output_type": "stream",
     "text": [
      "    August 1997\n",
      "Mo Tu We Th Fr Sa Su\n",
      "             1  2  3\n",
      " 4  5  6  7  8  9 10\n",
      "11 12 13 14 15 16 17\n",
      "18 19 20 21 22 23 24\n",
      "25 26 27 28 29 30 31\n",
      "\n"
     ]
    }
   ],
   "source": [
    "import calendar\n",
    "Y = int(\"1997\")\n",
    "M = int(\"08\")\n",
    "print (calendar.month(Y , M))"
   ]
  },
  {
   "cell_type": "code",
   "execution_count": 222,
   "metadata": {},
   "outputs": [],
   "source": [
    "# Write a Python program to print the following 'here document'.\n",
    "\n",
    "# Sample string:\n",
    "# a string that you \"don't\" have to escape\n",
    "# This\n",
    "# is a ....... multi-line\n",
    "# heredoc string --------> example"
   ]
  },
  {
   "cell_type": "code",
   "execution_count": 223,
   "metadata": {},
   "outputs": [
    {
     "name": "stdout",
     "output_type": "stream",
     "text": [
      "\n",
      "a string that you \"don't\" have to escape\n",
      "This\n",
      "is a  ....... multi-line\n",
      "heredoc string --------> example\n",
      "\n"
     ]
    }
   ],
   "source": [
    "print(\"\"\"\n",
    "a string that you \"don't\" have to escape\n",
    "This\n",
    "is a  ....... multi-line\n",
    "heredoc string --------> example\n",
    "\"\"\")"
   ]
  },
  {
   "cell_type": "markdown",
   "metadata": {},
   "source": [
    "# Write a Python program to calculate the number of days between two dates.\n",
    "# Sample dates : (2014, 7, 2), (2014, 7, 11)\n",
    "# Expected output : 9 days"
   ]
  },
  {
   "cell_type": "code",
   "execution_count": 236,
   "metadata": {},
   "outputs": [
    {
     "name": "stdout",
     "output_type": "stream",
     "text": [
      "2014-07-02\n",
      "9 days, 0:00:00\n"
     ]
    }
   ],
   "source": [
    "from datetime import date\n",
    "f_date = date(2014, 7, 2)\n",
    "l_date = date(2014, 7, 11)\n",
    "print (f_date)\n",
    "delta = l_date-f_date\n",
    "print (delta)"
   ]
  },
  {
   "cell_type": "markdown",
   "metadata": {},
   "source": [
    "# Write a Python program to get the volume of a sphere with radius six. 4/3 pi*r3\n"
   ]
  },
  {
   "cell_type": "code",
   "execution_count": 250,
   "metadata": {},
   "outputs": [
    {
     "name": "stdout",
     "output_type": "stream",
     "text": [
      "904.7786842338603\n"
     ]
    }
   ],
   "source": [
    "import math\n",
    "r = 6\n",
    "volume = (4/3)*math.pi*(r**3)\n",
    "print (volume)"
   ]
  },
  {
   "cell_type": "markdown",
   "metadata": {},
   "source": [
    "#  Write a Python program to calculate the difference between a given number and 17. If the number is greater than 17, return twice the absolute difference."
   ]
  },
  {
   "cell_type": "code",
   "execution_count": 3,
   "metadata": {},
   "outputs": [
    {
     "name": "stdout",
     "output_type": "stream",
     "text": [
      "10\n",
      "3\n"
     ]
    }
   ],
   "source": [
    "def diff(number):\n",
    "    if number <= 17:\n",
    "        return 17-number\n",
    "    else:\n",
    "        return (number-17)*2\n",
    "    \n",
    "print (diff(22))\n",
    "print (diff(14))"
   ]
  },
  {
   "cell_type": "markdown",
   "metadata": {},
   "source": [
    "# Write a Python program to test whether a number is within 100 of 1000 or 2000."
   ]
  },
  {
   "cell_type": "code",
   "execution_count": 9,
   "metadata": {},
   "outputs": [
    {
     "name": "stdout",
     "output_type": "stream",
     "text": [
      "the 1900 is near by 1000 or 2000\n",
      "the 2200 is not near by 1000 or 2000\n"
     ]
    }
   ],
   "source": [
    "def diff_checker(given_number):\n",
    "    if (abs((given_number-1000)<100)) or (abs((given_number-2000)<100)):\n",
    "        return f\"the {given_number} is near by 1000 or 2000\"\n",
    "    else:\n",
    "        return f\"the {given_number} is not near by 1000 or 2000\"\n",
    "print (diff_checker(1900))\n",
    "print (diff_checker(2200))\n",
    "\n"
   ]
  },
  {
   "cell_type": "markdown",
   "metadata": {},
   "source": [
    "#  Write a Python program to calculate the sum of three given numbers. If the values are equal, return three times their sum."
   ]
  },
  {
   "cell_type": "code",
   "execution_count": 13,
   "metadata": {},
   "outputs": [
    {
     "name": "stdout",
     "output_type": "stream",
     "text": [
      "60\n",
      "90\n",
      "40\n",
      "270\n"
     ]
    }
   ],
   "source": [
    "def sum (n1,n2,n3):\n",
    "    if n1!=n2 or n1!=n3 or n2!=n3:\n",
    "        return n1+n2+n3\n",
    "    else:\n",
    "        return (n1+n2+n3)*3\n",
    "print (sum(10,20,30))\n",
    "print (sum(10,10,10))\n",
    "print (sum(10,10,20))\n",
    "print (sum(30,30,30))\n",
    "\n",
    "    \n"
   ]
  },
  {
   "cell_type": "markdown",
   "metadata": {},
   "source": [
    "# Write a Python program to get a newly-generated string from a given string where \"Is\" has been added to the front. Return the string unchanged if the given string already begins with \"Is\"."
   ]
  },
  {
   "cell_type": "code",
   "execution_count": 29,
   "metadata": {},
   "outputs": [
    {
     "name": "stdout",
     "output_type": "stream",
     "text": [
      "Isanil\n"
     ]
    }
   ],
   "source": [
    "def add_string(my_str):\n",
    "    my_new_str = my_str.upper()\n",
    "    if my_new_str[0:2]==\"IS\":\n",
    "        return (my_new_str.capitalize())\n",
    "    else:\n",
    "        return ((\"IS\" + my_new_str).capitalize())\n",
    "print (add_string(\"isanil\"))\n",
    "    \n"
   ]
  },
  {
   "cell_type": "markdown",
   "metadata": {},
   "source": [
    "# 20. Write a Python program that returns a string that is n (non-negative integer) copies of a given string.\n"
   ]
  },
  {
   "cell_type": "code",
   "execution_count": 35,
   "metadata": {},
   "outputs": [
    {
     "name": "stdout",
     "output_type": "stream",
     "text": [
      "yogesh yogesh \n"
     ]
    }
   ],
   "source": [
    "def copy (my_str,n):\n",
    "    return ((my_str + \" \") * n)\n",
    "print (copy(\"yogesh\",2))"
   ]
  },
  {
   "cell_type": "markdown",
   "metadata": {},
   "source": [
    "# 21. Write a Python program that determines whether a given number (accepted from the user) is even or odd, and prints an appropriate message to the user.\n"
   ]
  },
  {
   "cell_type": "code",
   "execution_count": 36,
   "metadata": {},
   "outputs": [
    {
     "name": "stdout",
     "output_type": "stream",
     "text": [
      "the given number is an even number\n",
      "the given number is an odd number\n"
     ]
    }
   ],
   "source": [
    "def even_or_odd(number):\n",
    "    if number%2==0:\n",
    "        return \"the given number is an even number\"\n",
    "    else:\n",
    "        return \"the given number is an odd number\"\n",
    "print (even_or_odd(582))\n",
    "print (even_or_odd(593))"
   ]
  },
  {
   "cell_type": "markdown",
   "metadata": {},
   "source": [
    "# 22. Write a Python program to count the number 4 in a given list.\n"
   ]
  },
  {
   "cell_type": "code",
   "execution_count": 49,
   "metadata": {},
   "outputs": [
    {
     "name": "stdout",
     "output_type": "stream",
     "text": [
      "3\n"
     ]
    }
   ],
   "source": [
    "def count(my_list):\n",
    "    four_in_list = []\n",
    "    for i in my_list:\n",
    "        if i == 4:\n",
    "            four_in_list.append(i)\n",
    "        else:\n",
    "            pass\n",
    "    count = 0\n",
    "    for c in four_in_list:\n",
    "        count += 1\n",
    "\n",
    "    return count\n",
    "\n",
    "mylist = [4,2,0,7,2,4,9,6,8,4]\n",
    "print (count(mylist))"
   ]
  },
  {
   "cell_type": "markdown",
   "metadata": {},
   "source": [
    "# 23. Write a Python program to get n (non-negative integer) copies of the first 2 characters of a given string. Return n copies of the whole string if the length is less than 2.\n"
   ]
  },
  {
   "cell_type": "code",
   "execution_count": 50,
   "metadata": {},
   "outputs": [
    {
     "name": "stdout",
     "output_type": "stream",
     "text": [
      "yoyoyoyoyo\n",
      "hhhhh\n"
     ]
    }
   ],
   "source": [
    "def copy(mystr,n):\n",
    "    if (len(mystr)<2):\n",
    "        return (mystr*n)\n",
    "    else:\n",
    "        return (mystr[0:2]*n)\n",
    "print (copy(\"yogesh\",5))\n",
    "print (copy(\"h\",5))"
   ]
  },
  {
   "cell_type": "markdown",
   "metadata": {},
   "source": [
    "# 24. Write a Python program to test whether a passed letter is a vowel or not.\n"
   ]
  },
  {
   "cell_type": "code",
   "execution_count": 74,
   "metadata": {},
   "outputs": [
    {
     "name": "stdout",
     "output_type": "stream",
     "text": [
      "the given letter r is not a vowel letter\n",
      "the given letter a is a vowel letter\n",
      "the given letter b is not a vowel letter\n",
      "the given letter c is not a vowel letter\n",
      "the given letter e is a vowel letter\n",
      "the given letter i is a vowel letter\n"
     ]
    }
   ],
   "source": [
    "def is_vowel(letter):\n",
    "    lower_letter = letter.lower()\n",
    "    vowels = [\"a\",\"e\",\"i\",\"o\",\"u\"]\n",
    "    if lower_letter in vowels:\n",
    "        return f\"the given letter {lower_letter} is a vowel letter\"\n",
    "    else:\n",
    "        return f\"the given letter {lower_letter} is not a vowel letter\"\n",
    "\n",
    "print (is_vowel(\"R\"))\n",
    "print (is_vowel(\"A\"))\n",
    "print (is_vowel(\"B\"))\n",
    "print (is_vowel(\"C\"))\n",
    "print (is_vowel(\"E\"))\n",
    "print (is_vowel(\"I\"))"
   ]
  },
  {
   "cell_type": "markdown",
   "metadata": {},
   "source": [
    "# 25. Write a Python program that checks whether a specified value is contained within a group of values."
   ]
  },
  {
   "cell_type": "code",
   "execution_count": 87,
   "metadata": {},
   "outputs": [
    {
     "name": "stdout",
     "output_type": "stream",
     "text": [
      "the number_list is not contained the given number 10\n"
     ]
    }
   ],
   "source": [
    "number = 10\n",
    "number_list = [5,1,2,3,9,8,5,2,1]\n",
    "if number in number_list:\n",
    "    print (f\"the number_list is contained the given number {number}\")\n",
    "else:\n",
    "    print (f\"the number_list is not contained the given number {number}\")\n"
   ]
  },
  {
   "cell_type": "markdown",
   "metadata": {},
   "source": [
    "# 26. Write a Python program to create a histogram from a given list of integers.\n",
    "# 2365\n"
   ]
  },
  {
   "cell_type": "code",
   "execution_count": 1,
   "metadata": {},
   "outputs": [
    {
     "name": "stdout",
     "output_type": "stream",
     "text": [
      "**\n",
      "***\n",
      "******\n",
      "*****\n"
     ]
    }
   ],
   "source": [
    "def histogram(item):\n",
    "    for i in item:\n",
    "        output = ''\n",
    "        times = i\n",
    "        while times>0:\n",
    "            output += \"*\"\n",
    "            times -= 1\n",
    "        print (output)\n",
    "histo = histogram([2,3,6,5])\n",
    "        "
   ]
  },
  {
   "cell_type": "markdown",
   "metadata": {},
   "source": [
    "# 27. Write a Python program that concatenates all elements in a list into a string and returns it.\n"
   ]
  },
  {
   "cell_type": "code",
   "execution_count": 30,
   "metadata": {},
   "outputs": [
    {
     "name": "stdout",
     "output_type": "stream",
     "text": [
      "12356\n",
      ".......................\n",
      "geeks\n",
      ".......................\n"
     ]
    },
    {
     "data": {
      "text/plain": [
       "'12356'"
      ]
     },
     "execution_count": 30,
     "metadata": {},
     "output_type": "execute_result"
    }
   ],
   "source": [
    "def convert_into_str(l1):\n",
    "    my_str = ''\n",
    "    for i in l1:\n",
    "        my_str+= str(i)\n",
    "    return my_str   \n",
    "\n",
    "l1 = [1,2,3,5,6]\n",
    "print (convert_into_str(l1))\n",
    "print ('.......................')\n",
    "list1 = ['g', 'e', 'e', 'k', 's']\n",
    "print(\"\".join(list1))\n",
    "print ('.......................')\n",
    "l1 = [\"1\",\"2\",\"3\",\"5\",\"6\"]\n",
    "my_str = \"\"\n",
    "my_str.join(l1)\n"
   ]
  },
  {
   "cell_type": "markdown",
   "metadata": {},
   "source": [
    "#  Write a Python program to print all even numbers from a given list of numbers in the same order and stop printing any after 237 in the sequence.\n",
    "# Sample numbers list :\n",
    "\n",
    "# numbers = [    \n",
    "# 386, 462, 47, 418, 907, 344, 236, 375, 823, 566, 597, 978, 328, 615, 953, 345, \n",
    "# 399, 162, 758, 219, 918, 237, 412, 566, 826, 248, 866, 950, 626, 949, 687, 217, \n",
    "# 815, 67, 104, 58, 512, 24, 892, 894, 767, 553, 81, 379, 843, 831, 445, 742, 717, \n",
    "# 958,743, 527]\n",
    "    "
   ]
  },
  {
   "cell_type": "code",
   "execution_count": 33,
   "metadata": {},
   "outputs": [
    {
     "name": "stdout",
     "output_type": "stream",
     "text": [
      "[386, 462, 418, 344, 236, 566, 978, 328, 162, 758, 918, 412, 566, 826, 248, 866, 950, 626, 104, 58, 512, 24, 892, 894, 742, 958]\n",
      "[47, 907, 375, 823, 597, 615, 953, 345, 399, 219, 237, 949, 687, 217, 815, 67, 767, 553, 81, 379, 843, 831, 445, 717, 743, 527]\n"
     ]
    }
   ],
   "source": [
    "numbers = [    \n",
    "    386, 462, 47, 418, 907, 344, 236, 375, 823, 566, 597, 978, 328, 615, 953, 345, \n",
    "    399, 162, 758, 219, 918, 237, 412, 566, 826, 248, 866, 950, 626, 949, 687, 217, \n",
    "    815, 67, 104, 58, 512, 24, 892, 894, 767, 553, 81, 379, 843, 831, 445, 742, 717, \n",
    "    958,743, 527\n",
    "    ]\n",
    "even_number = []\n",
    "odd_number = []\n",
    "for i in numbers:\n",
    "    if i%2==0:\n",
    "        even_number.append(i)\n",
    "    else:\n",
    "        odd_number.append(i)\n",
    "print (even_number)\n",
    "print (odd_number)"
   ]
  },
  {
   "cell_type": "markdown",
   "metadata": {},
   "source": [
    "# 29. Write a Python program that prints out all colors from color_list_1 that are not present in color_list_2.\n"
   ]
  },
  {
   "cell_type": "code",
   "execution_count": 55,
   "metadata": {},
   "outputs": [
    {
     "name": "stdout",
     "output_type": "stream",
     "text": [
      "{'Black', 'brown', 'White'}\n",
      "..........................\n",
      "{'Black', 'brown', 'White'}\n",
      "{'pink'}\n"
     ]
    }
   ],
   "source": [
    "color_list_1 = set([\"White\", \"Black\", \"Red\",\"Green\",\"brown\"])\n",
    "color_list_2 = set([\"Red\", \"Green\"])\n",
    "duplicate_color = color_list_1.intersection(color_list_2)\n",
    "for i in duplicate_color:\n",
    "    color_list_1.remove(i)\n",
    "\n",
    "print (color_list_1)\n",
    "print (\"..........................\")\n",
    "color_list_1 = set([\"White\", \"Black\", \"Red\",\"Green\",\"brown\"])\n",
    "color_list_2 = set([\"Red\", \"Green\",\"pink\"])\n",
    "print (color_list_1.difference(color_list_2))\n",
    "print (color_list_2.difference(color_list_1))\n",
    "\n"
   ]
  },
  {
   "cell_type": "markdown",
   "metadata": {},
   "source": [
    "# 30. Write a Python program that will accept the base and height of a triangle and compute its area.\n"
   ]
  },
  {
   "cell_type": "code",
   "execution_count": 61,
   "metadata": {},
   "outputs": [
    {
     "name": "stdout",
     "output_type": "stream",
     "text": [
      "area = 100.0\n"
     ]
    }
   ],
   "source": [
    "def area (b,h):\n",
    "    area = ((1/2)*b*h)\n",
    "    return f\"area = {(area)}\"\n",
    "print (area(10,20))"
   ]
  },
  {
   "cell_type": "markdown",
   "metadata": {},
   "source": [
    "# 31. Write a Python program that computes the greatest common divisor (GCD) of two positive integers."
   ]
  },
  {
   "cell_type": "code",
   "execution_count": 113,
   "metadata": {},
   "outputs": [
    {
     "name": "stdout",
     "output_type": "stream",
     "text": [
      "The GCD for 336 and 360 is 24\n",
      "The GCD for 12 and 17 is 1\n",
      "The GCD for 4 and 6 is 2\n"
     ]
    }
   ],
   "source": [
    "def gcd(number1 , number2):\n",
    "    start_div = int(min(number1,number2)/2)\n",
    "    for i in range(start_div,0,-1):\n",
    "        if (number1 %i==0) and (number2%i==0):\n",
    "            \n",
    "            return (f\"The GCD for {number1} and {number2} is {i}\")\n",
    "print (gcd(336,360))\n",
    "print (gcd(12,17))\n",
    "print (gcd(4,6))"
   ]
  },
  {
   "cell_type": "markdown",
   "metadata": {},
   "source": [
    "# 32. Write a Python program to find the least common multiple (LCM) of two positive integers.\n"
   ]
  },
  {
   "cell_type": "code",
   "execution_count": 112,
   "metadata": {},
   "outputs": [
    {
     "name": "stdout",
     "output_type": "stream",
     "text": [
      "The LCM for 336 and 360 is 5040\n",
      "The LCM for 12 and 17 is 204\n",
      "The LCM for 4 and 6 is 12\n"
     ]
    }
   ],
   "source": [
    "def gcd(number1 , number2):\n",
    "    start_div = int(max(number1,number2))\n",
    "    end_div = int(number1*number2)\n",
    "\n",
    "    for i in range(start_div,end_div+1,1):\n",
    "        if (i % number1==0) and (i % number2 == 0):\n",
    "            \n",
    "            return (f\"The LCM for {number1} and {number2} is {i}\")\n",
    "print (gcd(336,360))\n",
    "print (gcd(12,17))\n",
    "print (gcd(4,6))"
   ]
  },
  {
   "cell_type": "markdown",
   "metadata": {},
   "source": [
    "# 33. Write a Python program to sum three given integers. However, if two values are equal, the sum will be zero.\n"
   ]
  },
  {
   "cell_type": "code",
   "execution_count": 125,
   "metadata": {},
   "outputs": [
    {
     "name": "stdout",
     "output_type": "stream",
     "text": [
      "45\n"
     ]
    }
   ],
   "source": [
    "def condition_sum(x,y,z):\n",
    "    \n",
    "    if x == y or y == z or x == z:\n",
    "        sum = 0\n",
    "    else:\n",
    "        sum = x + y + z\n",
    "\n",
    "    return sum\n",
    "print (condition_sum(10,15,20))\n",
    "    \n",
    "    \n"
   ]
  },
  {
   "cell_type": "markdown",
   "metadata": {},
   "source": [
    "# 34. Write a Python program to sum two given integers. However, if the sum is between 15 and 20 it will return 20.\n"
   ]
  },
  {
   "cell_type": "code",
   "execution_count": 135,
   "metadata": {},
   "outputs": [
    {
     "name": "stdout",
     "output_type": "stream",
     "text": [
      "15\n",
      "20\n",
      "20\n",
      "20\n",
      "20\n",
      "35\n",
      "30\n"
     ]
    }
   ],
   "source": [
    "def condition_sum(x,y):\n",
    "\n",
    "    sum = x + y\n",
    "    if sum < 20 and sum > 15:\n",
    "        sum = 20\n",
    "    else:\n",
    "        sum = x + y\n",
    "\n",
    "    return sum\n",
    "print (condition_sum(10,5))\n",
    "print (condition_sum(10,6))\n",
    "print (condition_sum(11,5))\n",
    "print (condition_sum(11,6))\n",
    "print (condition_sum(10,7))\n",
    "print (condition_sum(10,25))\n",
    "print (condition_sum(10,20))"
   ]
  },
  {
   "cell_type": "markdown",
   "metadata": {},
   "source": [
    "# 35. Write a Python program that returns true if the two given integer values are equal or their sum or difference is 5.\n"
   ]
  },
  {
   "cell_type": "code",
   "execution_count": 144,
   "metadata": {},
   "outputs": [
    {
     "name": "stdout",
     "output_type": "stream",
     "text": [
      "True\n",
      "True\n",
      "True\n",
      "False\n"
     ]
    }
   ],
   "source": [
    "def condition_sum(x,y):\n",
    "    diff = abs(x - y)\n",
    "    sum = x + y\n",
    "    if x == y:\n",
    "        return True\n",
    "    elif sum == 5:\n",
    "        return True\n",
    "    elif diff==5:\n",
    "        return True\n",
    "    else:\n",
    "        return False\n",
    "print (condition_sum(2,3))\n",
    "print (condition_sum(12,7))\n",
    "print (condition_sum(7,7))\n",
    "print (condition_sum(7,8))"
   ]
  }
 ],
 "metadata": {
  "kernelspec": {
   "display_name": "Python 3",
   "language": "python",
   "name": "python3"
  },
  "language_info": {
   "codemirror_mode": {
    "name": "ipython",
    "version": 3
   },
   "file_extension": ".py",
   "mimetype": "text/x-python",
   "name": "python",
   "nbconvert_exporter": "python",
   "pygments_lexer": "ipython3",
   "version": "3.10.8"
  },
  "orig_nbformat": 4
 },
 "nbformat": 4,
 "nbformat_minor": 2
}
